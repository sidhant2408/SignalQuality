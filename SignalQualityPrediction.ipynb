{
 "cells": [
  {
   "cell_type": "code",
   "execution_count": 1,
   "id": "a5441f2e",
   "metadata": {},
   "outputs": [],
   "source": [
    "# Importing required libraries and reading data\n",
    "import pandas as pd\n",
    "import numpy as np\n",
    "import seaborn as sns\n",
    "import matplotlib.pyplot as plt\n",
    "import warnings\n",
    "warnings.filterwarnings('ignore')\n",
    "\n",
    "from sklearn.preprocessing import StandardScaler\n",
    "from sklearn.model_selection import train_test_split\n",
    "from sklearn import metrics\n",
    "from sklearn import preprocessing\n",
    "from sklearn.metrics import average_precision_score, confusion_matrix, accuracy_score, classification_report, plot_confusion_matrix\n",
    "from tensorflow.keras.models import Sequential\n",
    "from tensorflow.keras.layers import Dense, Input\n",
    "from tensorflow.keras.utils import to_categorical\n",
    "from sklearn.preprocessing import MinMaxScaler\n",
    "from sklearn.preprocessing import OneHotEncoder\n",
    "from imblearn.over_sampling import SMOTE\n",
    "from sklearn.svm import SVC\n",
    "import tensorflow as tf"
   ]
  },
  {
   "cell_type": "code",
   "execution_count": 2,
   "id": "53368b8e",
   "metadata": {},
   "outputs": [
    {
     "data": {
      "text/html": [
       "<div>\n",
       "<style scoped>\n",
       "    .dataframe tbody tr th:only-of-type {\n",
       "        vertical-align: middle;\n",
       "    }\n",
       "\n",
       "    .dataframe tbody tr th {\n",
       "        vertical-align: top;\n",
       "    }\n",
       "\n",
       "    .dataframe thead th {\n",
       "        text-align: right;\n",
       "    }\n",
       "</style>\n",
       "<table border=\"1\" class=\"dataframe\">\n",
       "  <thead>\n",
       "    <tr style=\"text-align: right;\">\n",
       "      <th></th>\n",
       "      <th>Parameter 1</th>\n",
       "      <th>Parameter 2</th>\n",
       "      <th>Parameter 3</th>\n",
       "      <th>Parameter 4</th>\n",
       "      <th>Parameter 5</th>\n",
       "      <th>Parameter 6</th>\n",
       "      <th>Parameter 7</th>\n",
       "      <th>Parameter 8</th>\n",
       "      <th>Parameter 9</th>\n",
       "      <th>Parameter 10</th>\n",
       "      <th>Parameter 11</th>\n",
       "      <th>Signal_Strength</th>\n",
       "    </tr>\n",
       "  </thead>\n",
       "  <tbody>\n",
       "    <tr>\n",
       "      <th>0</th>\n",
       "      <td>7.4</td>\n",
       "      <td>0.70</td>\n",
       "      <td>0.0</td>\n",
       "      <td>1.9</td>\n",
       "      <td>0.076</td>\n",
       "      <td>11.0</td>\n",
       "      <td>34.0</td>\n",
       "      <td>0.9978</td>\n",
       "      <td>3.51</td>\n",
       "      <td>0.56</td>\n",
       "      <td>9.4</td>\n",
       "      <td>5</td>\n",
       "    </tr>\n",
       "    <tr>\n",
       "      <th>1</th>\n",
       "      <td>7.8</td>\n",
       "      <td>0.88</td>\n",
       "      <td>0.0</td>\n",
       "      <td>2.6</td>\n",
       "      <td>0.098</td>\n",
       "      <td>25.0</td>\n",
       "      <td>67.0</td>\n",
       "      <td>0.9968</td>\n",
       "      <td>3.20</td>\n",
       "      <td>0.68</td>\n",
       "      <td>9.8</td>\n",
       "      <td>5</td>\n",
       "    </tr>\n",
       "  </tbody>\n",
       "</table>\n",
       "</div>"
      ],
      "text/plain": [
       "   Parameter 1  Parameter 2  Parameter 3  Parameter 4  Parameter 5  \\\n",
       "0          7.4         0.70          0.0          1.9        0.076   \n",
       "1          7.8         0.88          0.0          2.6        0.098   \n",
       "\n",
       "   Parameter 6  Parameter 7  Parameter 8  Parameter 9  Parameter 10  \\\n",
       "0         11.0         34.0       0.9978         3.51          0.56   \n",
       "1         25.0         67.0       0.9968         3.20          0.68   \n",
       "\n",
       "   Parameter 11  Signal_Strength  \n",
       "0           9.4                5  \n",
       "1           9.8                5  "
      ]
     },
     "execution_count": 2,
     "metadata": {},
     "output_type": "execute_result"
    }
   ],
   "source": [
    "# Loading dataset\n",
    "df=pd.read_csv(\"Signal.csv\")\n",
    "df.head(2)"
   ]
  },
  {
   "cell_type": "code",
   "execution_count": 3,
   "id": "66a79396",
   "metadata": {},
   "outputs": [
    {
     "data": {
      "text/plain": [
       "((1599, 12), 19188)"
      ]
     },
     "execution_count": 3,
     "metadata": {},
     "output_type": "execute_result"
    }
   ],
   "source": [
    "df.shape,df.size\n",
    "# df.dtypes"
   ]
  },
  {
   "cell_type": "code",
   "execution_count": 4,
   "id": "158f5884",
   "metadata": {},
   "outputs": [
    {
     "name": "stdout",
     "output_type": "stream",
     "text": [
      "Parameter 1        0.0\n",
      "Parameter 2        0.0\n",
      "Parameter 3        0.0\n",
      "Parameter 4        0.0\n",
      "Parameter 5        0.0\n",
      "Parameter 6        0.0\n",
      "Parameter 7        0.0\n",
      "Parameter 8        0.0\n",
      "Parameter 9        0.0\n",
      "Parameter 10       0.0\n",
      "Parameter 11       0.0\n",
      "Signal_Strength    0.0\n",
      "dtype: float64\n"
     ]
    }
   ],
   "source": [
    "# Checking missing values and percentage\n",
    "missing_values = df.isnull().sum()/len(df)*100\n",
    "print(missing_values)"
   ]
  },
  {
   "cell_type": "code",
   "execution_count": 5,
   "id": "98036787",
   "metadata": {},
   "outputs": [
    {
     "data": {
      "text/plain": [
       "<AxesSubplot:>"
      ]
     },
     "execution_count": 5,
     "metadata": {},
     "output_type": "execute_result"
    },
    {
     "data": {
      "image/png": "[encoded data removed]",
      "text/plain": [
       "<Figure size 432x288 with 2 Axes>"
      ]
     },
     "metadata": {
      "needs_background": "light"
     },
     "output_type": "display_data"
    }
   ],
   "source": [
    "sns.heatmap(df.isnull(), yticklabels=False, cmap='Blues')"
   ]
  },
  {
   "cell_type": "code",
   "execution_count": 6,
   "id": "c03c5187",
   "metadata": {},
   "outputs": [
    {
     "name": "stdout",
     "output_type": "stream",
     "text": [
      "False    71.23202\n",
      "True     28.76798\n",
      "dtype: float64\n"
     ]
    }
   ],
   "source": [
    "# Checking presence of duplicate dataset\n",
    "percentage = df.duplicated(keep=False).value_counts(normalize=True) * 100\n",
    "print (percentage)"
   ]
  },
  {
   "cell_type": "code",
   "execution_count": 7,
   "id": "24086317",
   "metadata": {},
   "outputs": [],
   "source": [
    "df=df.drop_duplicates()"
   ]
  },
  {
   "cell_type": "code",
   "execution_count": 8,
   "id": "cbc2aa71",
   "metadata": {},
   "outputs": [
    {
     "data": {
      "text/plain": [
       "<AxesSubplot:ylabel='Signal_Strength'>"
      ]
     },
     "execution_count": 8,
     "metadata": {},
     "output_type": "execute_result"
    },
    {
     "data": {
      "image/png": "[encoded data removed]",
      "text/plain": [
       "<Figure size 432x288 with 1 Axes>"
      ]
     },
     "metadata": {},
     "output_type": "display_data"
    }
   ],
   "source": [
    "# Visualize distribution of target varialbles\n",
    "def func(pct):\n",
    "  return \"{:1.2f}%\".format(pct)\n",
    "\n",
    "df['Signal_Strength'].value_counts().plot(kind='pie',autopct=lambda pct: func(pct), explode=[0.1,0.1,0.1,0.1,1,1],shadow=True)"
   ]
  },
  {
   "cell_type": "code",
   "execution_count": 9,
   "id": "31102418",
   "metadata": {},
   "outputs": [
    {
     "data": {
      "text/plain": [
       "<AxesSubplot:ylabel='Density'>"
      ]
     },
     "execution_count": 9,
     "metadata": {},
     "output_type": "execute_result"
    },
    {
     "data": {
      "image/png": "[encoded data removed]",
      "text/plain": [
       "<Figure size 432x288 with 1 Axes>"
      ]
     },
     "metadata": {
      "needs_background": "light"
     },
     "output_type": "display_data"
    }
   ],
   "source": [
    "df['Signal_Strength'].plot.kde()"
   ]
  },
  {
   "cell_type": "code",
   "execution_count": 10,
   "id": "86b64604",
   "metadata": {},
   "outputs": [
    {
     "data": {
      "text/plain": [
       "<AxesSubplot:ylabel='Frequency'>"
      ]
     },
     "execution_count": 10,
     "metadata": {},
     "output_type": "execute_result"
    },
    {
     "data": {
      "image/png": "[encoded data removed]",
      "text/plain": [
       "<Figure size 432x288 with 1 Axes>"
      ]
     },
     "metadata": {
      "needs_background": "light"
     },
     "output_type": "display_data"
    }
   ],
   "source": [
    "df['Signal_Strength'].plot.hist()"
   ]
  },
  {
   "cell_type": "code",
   "execution_count": 11,
   "id": "247ce626",
   "metadata": {},
   "outputs": [
    {
     "data": {
      "image/png": "[encoded data removed]",
      "text/plain": [
       "<Figure size 1080x360 with 2 Axes>"
      ]
     },
     "metadata": {
      "needs_background": "light"
     },
     "output_type": "display_data"
    }
   ],
   "source": [
    "col = 'Signal_Strength'\n",
    "x1 = df[col]\n",
    "\n",
    "_, ax = plt.subplots(1, 2, figsize=(15, 5))\n",
    "sns.boxplot(x=x1, ax=ax[0]);\n",
    "sns.histplot(x=x1, ax=ax[1]);\n",
    "ax[0].set_title(f\"Boxplot - {col}\", fontweight='bold');\n",
    "ax[1].set_title(f\"Histplot - {col}\", fontweight='bold');"
   ]
  },
  {
   "cell_type": "markdown",
   "id": "302478ec",
   "metadata": {},
   "source": [
    "The signal strength is max at 5th and 6th Parameter"
   ]
  },
  {
   "cell_type": "markdown",
   "id": "97b053ef",
   "metadata": {},
   "source": [
    "While Parameter 3 and 8 are outliers"
   ]
  },
  {
   "cell_type": "code",
   "execution_count": 12,
   "id": "4bf1f303",
   "metadata": {},
   "outputs": [
    {
     "name": "stdout",
     "output_type": "stream",
     "text": [
      "(1359, 11) 14949\n",
      "(1359,) 1359\n"
     ]
    }
   ],
   "source": [
    "# Split the data into X & Y\n",
    "X= df.drop(['Signal_Strength'], axis = 1)\n",
    "Y = df['Signal_Strength']\n",
    "print(X.shape,X.size)\n",
    "print(Y.shape,Y.size)"
   ]
  },
  {
   "cell_type": "code",
   "execution_count": 13,
   "id": "47f3561d",
   "metadata": {},
   "outputs": [],
   "source": [
    "# Splitting data into training & testing, 70:30 ratio\n",
    "X_train, X_test, Y_train, Y_test = train_test_split(X, Y , test_size = 0.3, random_state =42)"
   ]
  },
  {
   "cell_type": "code",
   "execution_count": 14,
   "id": "bced259b",
   "metadata": {},
   "outputs": [
    {
     "name": "stdout",
     "output_type": "stream",
     "text": [
      "(951, 11) (408, 11) (951,) (408,)\n"
     ]
    }
   ],
   "source": [
    "# Checking the shape of of the training and testing dataset to be in sync\n",
    "print(X_train.shape, X_test.shape, Y_train.shape, Y_test.shape)"
   ]
  },
  {
   "cell_type": "code",
   "execution_count": 15,
   "id": "057c1a54",
   "metadata": {},
   "outputs": [],
   "source": [
    "# Data normalization\n",
    "scaler = MinMaxScaler()\n",
    "X_train_sc = scaler.fit_transform(X_train)\n",
    "X_test_sc = scaler.transform(X_test)\n"
   ]
  },
  {
   "cell_type": "code",
   "execution_count": 16,
   "id": "9fdcaeff",
   "metadata": {},
   "outputs": [],
   "source": [
    "# Transform labels into format acceptable by neural networks\n",
    "label_encoder = OneHotEncoder(sparse=False)\n",
    "Y_train=label_encoder.fit_transform(Y_train.to_frame())\n",
    "Y_test=label_encoder.fit_transform(Y_test.to_frame())"
   ]
  },
  {
   "cell_type": "code",
   "execution_count": 17,
   "id": "4202d73d",
   "metadata": {},
   "outputs": [],
   "source": [
    "# Design a neural network\n",
    "model = Sequential([Input(shape=(11,)), \n",
    "                   Dense(512,activation='relu'), \n",
    "                   Dense(256,activation='relu'),\n",
    "                   Dense(128,activation='relu'),\n",
    "                   Dense(6,activation='softmax')])"
   ]
  },
  {
   "cell_type": "code",
   "execution_count": 18,
   "id": "c726df9d",
   "metadata": {},
   "outputs": [
    {
     "name": "stdout",
     "output_type": "stream",
     "text": [
      "Model: \"sequential\"\n",
      "_________________________________________________________________\n",
      "Layer (type)                 Output Shape              Param #   \n",
      "=================================================================\n",
      "dense (Dense)                (None, 512)               6144      \n",
      "_________________________________________________________________\n",
      "dense_1 (Dense)              (None, 256)               131328    \n",
      "_________________________________________________________________\n",
      "dense_2 (Dense)              (None, 128)               32896     \n",
      "_________________________________________________________________\n",
      "dense_3 (Dense)              (None, 6)                 774       \n",
      "=================================================================\n",
      "Total params: 171,142\n",
      "Trainable params: 171,142\n",
      "Non-trainable params: 0\n",
      "_________________________________________________________________\n"
     ]
    }
   ],
   "source": [
    "# Description of model architecture \n",
    "model.summary()"
   ]
  },
  {
   "cell_type": "code",
   "execution_count": 19,
   "id": "e6c242eb",
   "metadata": {},
   "outputs": [],
   "source": [
    "from tensorflow.keras.optimizers import Adam\n",
    "\n",
    "model.compile(loss='categorical_crossentropy',\n",
    "              optimizer=Adam(lr=0.001), metrics = ['accuracy'])"
   ]
  },
  {
   "cell_type": "code",
   "execution_count": 20,
   "id": "b9ba14b0",
   "metadata": {},
   "outputs": [
    {
     "name": "stdout",
     "output_type": "stream",
     "text": [
      "Epoch 1/50\n",
      "7/7 [==============================] - 0s 49ms/step - loss: 1.6707 - accuracy: 0.3617 - val_loss: 1.4424 - val_accuracy: 0.4216\n",
      "Epoch 2/50\n",
      "7/7 [==============================] - 0s 9ms/step - loss: 1.3414 - accuracy: 0.4259 - val_loss: 1.1974 - val_accuracy: 0.4363\n",
      "Epoch 3/50\n",
      "7/7 [==============================] - 0s 9ms/step - loss: 1.2058 - accuracy: 0.5300 - val_loss: 1.1354 - val_accuracy: 0.5711\n",
      "Epoch 4/50\n",
      "7/7 [==============================] - 0s 9ms/step - loss: 1.1362 - accuracy: 0.5405 - val_loss: 1.0745 - val_accuracy: 0.5637\n",
      "Epoch 5/50\n",
      "7/7 [==============================] - 0s 9ms/step - loss: 1.0723 - accuracy: 0.5447 - val_loss: 1.0346 - val_accuracy: 0.5907\n",
      "Epoch 6/50\n",
      "7/7 [==============================] - 0s 9ms/step - loss: 1.0451 - accuracy: 0.5626 - val_loss: 0.9948 - val_accuracy: 0.5784\n",
      "Epoch 7/50\n",
      "7/7 [==============================] - 0s 8ms/step - loss: 1.0338 - accuracy: 0.5815 - val_loss: 0.9875 - val_accuracy: 0.5809\n",
      "Epoch 8/50\n",
      "7/7 [==============================] - 0s 8ms/step - loss: 1.0302 - accuracy: 0.5499 - val_loss: 0.9804 - val_accuracy: 0.5956\n",
      "Epoch 9/50\n",
      "7/7 [==============================] - 0s 8ms/step - loss: 1.0201 - accuracy: 0.5584 - val_loss: 0.9635 - val_accuracy: 0.6103\n",
      "Epoch 10/50\n",
      "7/7 [==============================] - 0s 8ms/step - loss: 0.9991 - accuracy: 0.5899 - val_loss: 0.9653 - val_accuracy: 0.6029\n",
      "Epoch 11/50\n",
      "7/7 [==============================] - 0s 8ms/step - loss: 1.0152 - accuracy: 0.5636 - val_loss: 0.9966 - val_accuracy: 0.5956\n",
      "Epoch 12/50\n",
      "7/7 [==============================] - 0s 8ms/step - loss: 1.0116 - accuracy: 0.5794 - val_loss: 0.9608 - val_accuracy: 0.5931\n",
      "Epoch 13/50\n",
      "7/7 [==============================] - 0s 8ms/step - loss: 0.9924 - accuracy: 0.5857 - val_loss: 0.9566 - val_accuracy: 0.6078\n",
      "Epoch 14/50\n",
      "7/7 [==============================] - 0s 9ms/step - loss: 0.9858 - accuracy: 0.5762 - val_loss: 0.9485 - val_accuracy: 0.6103\n",
      "Epoch 15/50\n",
      "7/7 [==============================] - 0s 9ms/step - loss: 0.9779 - accuracy: 0.5910 - val_loss: 0.9462 - val_accuracy: 0.6152\n",
      "Epoch 16/50\n",
      "7/7 [==============================] - 0s 8ms/step - loss: 0.9745 - accuracy: 0.5899 - val_loss: 0.9440 - val_accuracy: 0.6103\n",
      "Epoch 17/50\n",
      "7/7 [==============================] - 0s 8ms/step - loss: 0.9709 - accuracy: 0.5920 - val_loss: 0.9551 - val_accuracy: 0.6275\n",
      "Epoch 18/50\n",
      "7/7 [==============================] - 0s 8ms/step - loss: 0.9706 - accuracy: 0.5899 - val_loss: 0.9411 - val_accuracy: 0.5882\n",
      "Epoch 19/50\n",
      "7/7 [==============================] - 0s 8ms/step - loss: 0.9619 - accuracy: 0.5973 - val_loss: 0.9506 - val_accuracy: 0.6275\n",
      "Epoch 20/50\n",
      "7/7 [==============================] - 0s 8ms/step - loss: 0.9682 - accuracy: 0.6004 - val_loss: 0.9330 - val_accuracy: 0.6005\n",
      "Epoch 21/50\n",
      "7/7 [==============================] - 0s 8ms/step - loss: 0.9588 - accuracy: 0.5931 - val_loss: 0.9356 - val_accuracy: 0.6348\n",
      "Epoch 22/50\n",
      "7/7 [==============================] - 0s 8ms/step - loss: 0.9507 - accuracy: 0.6025 - val_loss: 0.9226 - val_accuracy: 0.6078\n",
      "Epoch 23/50\n",
      "7/7 [==============================] - 0s 8ms/step - loss: 0.9492 - accuracy: 0.6004 - val_loss: 0.9242 - val_accuracy: 0.6176\n",
      "Epoch 24/50\n",
      "7/7 [==============================] - 0s 9ms/step - loss: 0.9453 - accuracy: 0.5962 - val_loss: 0.9236 - val_accuracy: 0.6176\n",
      "Epoch 25/50\n",
      "7/7 [==============================] - 0s 9ms/step - loss: 0.9410 - accuracy: 0.6046 - val_loss: 0.9255 - val_accuracy: 0.6348\n",
      "Epoch 26/50\n",
      "7/7 [==============================] - 0s 9ms/step - loss: 0.9479 - accuracy: 0.5973 - val_loss: 0.9190 - val_accuracy: 0.6250\n",
      "Epoch 27/50\n",
      "7/7 [==============================] - 0s 8ms/step - loss: 0.9505 - accuracy: 0.5899 - val_loss: 0.9256 - val_accuracy: 0.6446\n",
      "Epoch 28/50\n",
      "7/7 [==============================] - 0s 10ms/step - loss: 0.9330 - accuracy: 0.6015 - val_loss: 0.9194 - val_accuracy: 0.6176\n",
      "Epoch 29/50\n",
      "7/7 [==============================] - 0s 19ms/step - loss: 0.9419 - accuracy: 0.5941 - val_loss: 0.9461 - val_accuracy: 0.5980\n",
      "Epoch 30/50\n",
      "7/7 [==============================] - 0s 16ms/step - loss: 0.9368 - accuracy: 0.6120 - val_loss: 0.9219 - val_accuracy: 0.6103\n",
      "Epoch 31/50\n",
      "7/7 [==============================] - 0s 12ms/step - loss: 0.9254 - accuracy: 0.6067 - val_loss: 0.9147 - val_accuracy: 0.6324\n",
      "Epoch 32/50\n",
      "7/7 [==============================] - 0s 14ms/step - loss: 0.9172 - accuracy: 0.6088 - val_loss: 0.9141 - val_accuracy: 0.6176\n",
      "Epoch 33/50\n",
      "7/7 [==============================] - 0s 16ms/step - loss: 0.9169 - accuracy: 0.6151 - val_loss: 0.9089 - val_accuracy: 0.6225\n",
      "Epoch 34/50\n",
      "7/7 [==============================] - 0s 17ms/step - loss: 0.9189 - accuracy: 0.6120 - val_loss: 0.9186 - val_accuracy: 0.6299\n",
      "Epoch 35/50\n",
      "7/7 [==============================] - 0s 15ms/step - loss: 0.9104 - accuracy: 0.6225 - val_loss: 0.9247 - val_accuracy: 0.6005\n",
      "Epoch 36/50\n",
      "7/7 [==============================] - 0s 19ms/step - loss: 0.9122 - accuracy: 0.6162 - val_loss: 0.9438 - val_accuracy: 0.6103\n",
      "Epoch 37/50\n",
      "7/7 [==============================] - 0s 13ms/step - loss: 0.9229 - accuracy: 0.6162 - val_loss: 0.9148 - val_accuracy: 0.6250\n",
      "Epoch 38/50\n",
      "7/7 [==============================] - 0s 15ms/step - loss: 0.9111 - accuracy: 0.6193 - val_loss: 0.9039 - val_accuracy: 0.6176\n",
      "Epoch 39/50\n",
      "7/7 [==============================] - 0s 15ms/step - loss: 0.9111 - accuracy: 0.6015 - val_loss: 0.9298 - val_accuracy: 0.6176\n",
      "Epoch 40/50\n",
      "7/7 [==============================] - 0s 16ms/step - loss: 0.9245 - accuracy: 0.6057 - val_loss: 0.9122 - val_accuracy: 0.6176\n",
      "Epoch 41/50\n",
      "7/7 [==============================] - 0s 23ms/step - loss: 0.9040 - accuracy: 0.6015 - val_loss: 0.9177 - val_accuracy: 0.6176\n",
      "Epoch 42/50\n",
      "7/7 [==============================] - 0s 17ms/step - loss: 0.8923 - accuracy: 0.6246 - val_loss: 0.9120 - val_accuracy: 0.6225\n",
      "Epoch 43/50\n",
      "7/7 [==============================] - 0s 12ms/step - loss: 0.8987 - accuracy: 0.6225 - val_loss: 0.9475 - val_accuracy: 0.5931\n",
      "Epoch 44/50\n",
      "7/7 [==============================] - 0s 13ms/step - loss: 0.8983 - accuracy: 0.6225 - val_loss: 0.9167 - val_accuracy: 0.6275\n",
      "Epoch 45/50\n",
      "7/7 [==============================] - 0s 12ms/step - loss: 0.8982 - accuracy: 0.6120 - val_loss: 0.9522 - val_accuracy: 0.5784\n",
      "Epoch 46/50\n",
      "7/7 [==============================] - 0s 19ms/step - loss: 0.9156 - accuracy: 0.6057 - val_loss: 0.9523 - val_accuracy: 0.5980\n",
      "Epoch 47/50\n",
      "7/7 [==============================] - 0s 17ms/step - loss: 0.8995 - accuracy: 0.6109 - val_loss: 0.9099 - val_accuracy: 0.6373\n",
      "Epoch 48/50\n",
      "7/7 [==============================] - 0s 17ms/step - loss: 0.8896 - accuracy: 0.6320 - val_loss: 0.9132 - val_accuracy: 0.6299\n",
      "Epoch 49/50\n",
      "7/7 [==============================] - 0s 14ms/step - loss: 0.8801 - accuracy: 0.6236 - val_loss: 0.9167 - val_accuracy: 0.6176\n",
      "Epoch 50/50\n",
      "7/7 [==============================] - 0s 12ms/step - loss: 0.8789 - accuracy: 0.6236 - val_loss: 0.9343 - val_accuracy: 0.6029\n"
     ]
    }
   ],
   "source": [
    "# Training the classifier\n",
    "train = model.fit(X_train_sc, Y_train, epochs=50,batch_size=150, validation_data=(X_test_sc,Y_test))"
   ]
  },
  {
   "cell_type": "markdown",
   "id": "c80be479",
   "metadata": {},
   "source": [
    "Here we can clearly see that the loss is getting lower and accuracy is increasing. This depicts that everything is doing good in our model created."
   ]
  },
  {
   "cell_type": "code",
   "execution_count": 21,
   "id": "5ae3988b",
   "metadata": {},
   "outputs": [
    {
     "data": {
      "text/plain": [
       "Text(0.5, 1.0, 'Training and Validation Accuracy')"
      ]
     },
     "execution_count": 21,
     "metadata": {},
     "output_type": "execute_result"
    },
    {
     "data": {
      "image/png": "[encoded data removed]",
      "text/plain": [
       "<Figure size 432x288 with 1 Axes>"
      ]
     },
     "metadata": {
      "needs_background": "light"
     },
     "output_type": "display_data"
    }
   ],
   "source": [
    "# Plotting of Training-Validation Accuracy of model\n",
    "accuracy = train.history['accuracy']\n",
    "val_accuracy = train.history['val_accuracy']\n",
    "\n",
    "epochs = range(len(accuracy)) # Get number of epochs\n",
    "\n",
    "plt.plot(epochs, accuracy, label = 'Training Accuracy' )\n",
    "plt.plot(epochs, val_accuracy, label = 'Validation Accuracy')\n",
    "plt.legend(loc = 'lower right')\n",
    "plt.title('Training and Validation Accuracy')"
   ]
  },
  {
   "cell_type": "code",
   "execution_count": 22,
   "id": "b9312129",
   "metadata": {},
   "outputs": [
    {
     "data": {
      "text/plain": [
       "Text(0.5, 1.0, 'Training and Validation Loss')"
      ]
     },
     "execution_count": 22,
     "metadata": {},
     "output_type": "execute_result"
    },
    {
     "data": {
      "image/png": "[encoded data removed]",
      "text/plain": [
       "<Figure size 432x288 with 1 Axes>"
      ]
     },
     "metadata": {
      "needs_background": "light"
     },
     "output_type": "display_data"
    }
   ],
   "source": [
    "# Plotting of Training-Validation Loss of model\n",
    "loss = train.history['loss']\n",
    "val_loss = train.history['val_loss']\n",
    "\n",
    "plt.plot(epochs, loss, label = 'Training Loss' )\n",
    "plt.plot(epochs, val_loss, label = 'Validation Loss')\n",
    "plt.legend(loc = 'upper right')\n",
    "plt.title('Training and Validation Loss')"
   ]
  },
  {
   "cell_type": "code",
   "execution_count": 23,
   "id": "1db2f6a7",
   "metadata": {},
   "outputs": [
    {
     "name": "stdout",
     "output_type": "stream",
     "text": [
      "Loss: 0.9342950582504272\n",
      "Accuracy: 0.6029411554336548\n"
     ]
    }
   ],
   "source": [
    "# Model performance\n",
    "scores = model.evaluate(X_test_sc, Y_test, verbose=0)\n",
    "print(\"Loss:\", scores[0])\n",
    "print(\"Accuracy:\", scores[1])"
   ]
  },
  {
   "cell_type": "code",
   "execution_count": 24,
   "id": "1f4f611a",
   "metadata": {},
   "outputs": [
    {
     "name": "stdout",
     "output_type": "stream",
     "text": [
      "Test Classification Report               precision    recall  f1-score   support\n",
      "\n",
      "           0       0.00      0.00      0.00         5\n",
      "           1       0.00      0.00      0.00        13\n",
      "           2       0.69      0.63      0.66       172\n",
      "           3       0.55      0.70      0.61       164\n",
      "           4       0.57      0.46      0.51        50\n",
      "           5       0.00      0.00      0.00         4\n",
      "\n",
      "    accuracy                           0.60       408\n",
      "   macro avg       0.30      0.30      0.30       408\n",
      "weighted avg       0.58      0.60      0.59       408\n",
      "\n"
     ]
    }
   ],
   "source": [
    "# Classification Report of the model\n",
    "Y_pred = model.predict(X_test_sc)\n",
    "Y_pred=np.argmax(Y_pred, axis=1)\n",
    "Y_test=np.argmax(Y_test, axis=1)\n",
    "print(\"Test Classification Report\",classification_report(Y_test,Y_pred))"
   ]
  },
  {
   "cell_type": "markdown",
   "id": "c2089d4b",
   "metadata": {},
   "source": [
    "Now, let's improve the model created so far for enhanced performance."
   ]
  },
  {
   "cell_type": "code",
   "execution_count": 25,
   "id": "45c0c831",
   "metadata": {},
   "outputs": [],
   "source": [
    "# Re-sampling the data\n",
    "smote=SMOTE(\"minority\")\n",
    "X_res,Y_res = smote.fit_resample(X,Y)"
   ]
  },
  {
   "cell_type": "code",
   "execution_count": 26,
   "id": "504c68a2",
   "metadata": {},
   "outputs": [
    {
     "data": {
      "text/plain": [
       "((1926, 11), (1926,))"
      ]
     },
     "execution_count": 26,
     "metadata": {},
     "output_type": "execute_result"
    }
   ],
   "source": [
    "X_res.shape,Y_res.shape"
   ]
  },
  {
   "cell_type": "code",
   "execution_count": 27,
   "id": "b6adeebc",
   "metadata": {},
   "outputs": [
    {
     "data": {
      "text/plain": [
       "Signal_Strength\n",
       "3                  29.958463\n",
       "5                  29.958463\n",
       "6                  27.777778\n",
       "7                   8.670820\n",
       "4                   2.751817\n",
       "8                   0.882658\n",
       "dtype: float64"
      ]
     },
     "execution_count": 27,
     "metadata": {},
     "output_type": "execute_result"
    }
   ],
   "source": [
    "# Checking the distribution of the resampled target class\n",
    "pd.DataFrame(Y_res).value_counts(normalize=True)*100"
   ]
  },
  {
   "cell_type": "code",
   "execution_count": 28,
   "id": "59849c03",
   "metadata": {},
   "outputs": [
    {
     "name": "stdout",
     "output_type": "stream",
     "text": [
      "(1348, 11) (578, 11)\n",
      "(1348,) (578,)\n"
     ]
    }
   ],
   "source": [
    "# Splitting the balanced data into train and test.\n",
    "X_train1, X_test1, Y_train1, Y_test1 = train_test_split(X_res,Y_res, test_size=0.30, random_state=42)\n",
    "print(X_train1.shape,X_test1.shape)\n",
    "print(Y_train1.shape,Y_test1.shape)"
   ]
  },
  {
   "cell_type": "code",
   "execution_count": 29,
   "id": "87ce2b99",
   "metadata": {},
   "outputs": [],
   "source": [
    "# Normalize the dataset\n",
    "scaler = MinMaxScaler()\n",
    "X_train_sc1 = scaler.fit_transform(X_train1)\n",
    "X_test_sc1 = scaler.transform(X_test1)\n"
   ]
  },
  {
   "cell_type": "code",
   "execution_count": 30,
   "id": "711bfd92",
   "metadata": {},
   "outputs": [],
   "source": [
    "# Formatting labels\n",
    "label_encoder = OneHotEncoder(sparse=False)\n",
    "Y_train1=label_encoder.fit_transform(Y_train1.to_frame())\n",
    "Y_test1=label_encoder.fit_transform(Y_test1.to_frame())"
   ]
  },
  {
   "cell_type": "code",
   "execution_count": 31,
   "id": "69cd404b",
   "metadata": {},
   "outputs": [],
   "source": [
    "# Upgrading our neural network model\n",
    "model1 = Sequential([Input(shape=(11,)), \n",
    "                   Dense(512,activation='relu'),\n",
    "                   Dense(256,activation='relu'), \n",
    "                   Dense(128,activation='relu'),\n",
    "                   Dense(6,activation='softmax')])"
   ]
  },
  {
   "cell_type": "code",
   "execution_count": 32,
   "id": "b7f6c688",
   "metadata": {},
   "outputs": [
    {
     "name": "stdout",
     "output_type": "stream",
     "text": [
      "Model: \"sequential_1\"\n",
      "_________________________________________________________________\n",
      "Layer (type)                 Output Shape              Param #   \n",
      "=================================================================\n",
      "dense_4 (Dense)              (None, 512)               6144      \n",
      "_________________________________________________________________\n",
      "dense_5 (Dense)              (None, 256)               131328    \n",
      "_________________________________________________________________\n",
      "dense_6 (Dense)              (None, 128)               32896     \n",
      "_________________________________________________________________\n",
      "dense_7 (Dense)              (None, 6)                 774       \n",
      "=================================================================\n",
      "Total params: 171,142\n",
      "Trainable params: 171,142\n",
      "Non-trainable params: 0\n",
      "_________________________________________________________________\n"
     ]
    }
   ],
   "source": [
    "# Description of upgraded model architecture \n",
    "model1.summary()"
   ]
  },
  {
   "cell_type": "code",
   "execution_count": 33,
   "id": "c638b9a1",
   "metadata": {},
   "outputs": [],
   "source": [
    "from tensorflow.keras.optimizers import Adam\n",
    "\n",
    "model1.compile(loss='categorical_crossentropy',\n",
    "              optimizer=Adam(lr=0.001), metrics = ['accuracy'])"
   ]
  },
  {
   "cell_type": "code",
   "execution_count": 34,
   "id": "04d9bd34",
   "metadata": {
    "scrolled": false
   },
   "outputs": [
    {
     "name": "stdout",
     "output_type": "stream",
     "text": [
      "Epoch 1/70\n",
      "14/14 [==============================] - 0s 33ms/step - loss: 1.5289 - accuracy: 0.4696 - val_loss: 1.2623 - val_accuracy: 0.5433\n",
      "Epoch 2/70\n",
      "14/14 [==============================] - 0s 16ms/step - loss: 1.2005 - accuracy: 0.5326 - val_loss: 1.0613 - val_accuracy: 0.5848\n",
      "Epoch 3/70\n",
      "14/14 [==============================] - 0s 10ms/step - loss: 1.0329 - accuracy: 0.5838 - val_loss: 0.9377 - val_accuracy: 0.6228\n",
      "Epoch 4/70\n",
      "14/14 [==============================] - 0s 8ms/step - loss: 0.9408 - accuracy: 0.6150 - val_loss: 0.8877 - val_accuracy: 0.6488\n",
      "Epoch 5/70\n",
      "14/14 [==============================] - 0s 8ms/step - loss: 0.8938 - accuracy: 0.6246 - val_loss: 0.8389 - val_accuracy: 0.6938\n",
      "Epoch 6/70\n",
      "14/14 [==============================] - 0s 8ms/step - loss: 0.8675 - accuracy: 0.6358 - val_loss: 0.8245 - val_accuracy: 0.7111\n",
      "Epoch 7/70\n",
      "14/14 [==============================] - 0s 9ms/step - loss: 0.8406 - accuracy: 0.6602 - val_loss: 0.7862 - val_accuracy: 0.7180\n",
      "Epoch 8/70\n",
      "14/14 [==============================] - 0s 8ms/step - loss: 0.8125 - accuracy: 0.6721 - val_loss: 0.7761 - val_accuracy: 0.7128\n",
      "Epoch 9/70\n",
      "14/14 [==============================] - 0s 9ms/step - loss: 0.7984 - accuracy: 0.6677 - val_loss: 0.7621 - val_accuracy: 0.7059\n",
      "Epoch 10/70\n",
      "14/14 [==============================] - 0s 8ms/step - loss: 0.7765 - accuracy: 0.6751 - val_loss: 0.7505 - val_accuracy: 0.7163\n",
      "Epoch 11/70\n",
      "14/14 [==============================] - 0s 8ms/step - loss: 0.7688 - accuracy: 0.6803 - val_loss: 0.7474 - val_accuracy: 0.7180\n",
      "Epoch 12/70\n",
      "14/14 [==============================] - 0s 8ms/step - loss: 0.7636 - accuracy: 0.6840 - val_loss: 0.7342 - val_accuracy: 0.7301\n",
      "Epoch 13/70\n",
      "14/14 [==============================] - 0s 8ms/step - loss: 0.7450 - accuracy: 0.6847 - val_loss: 0.7384 - val_accuracy: 0.7111\n",
      "Epoch 14/70\n",
      "14/14 [==============================] - 0s 9ms/step - loss: 0.7350 - accuracy: 0.6862 - val_loss: 0.7307 - val_accuracy: 0.7318\n",
      "Epoch 15/70\n",
      "14/14 [==============================] - 0s 9ms/step - loss: 0.7276 - accuracy: 0.6951 - val_loss: 0.7166 - val_accuracy: 0.7336\n",
      "Epoch 16/70\n",
      "14/14 [==============================] - 0s 9ms/step - loss: 0.7163 - accuracy: 0.7003 - val_loss: 0.7082 - val_accuracy: 0.7318\n",
      "Epoch 17/70\n",
      "14/14 [==============================] - 0s 10ms/step - loss: 0.7158 - accuracy: 0.6981 - val_loss: 0.7315 - val_accuracy: 0.7180\n",
      "Epoch 18/70\n",
      "14/14 [==============================] - 0s 9ms/step - loss: 0.7111 - accuracy: 0.6944 - val_loss: 0.7048 - val_accuracy: 0.7163\n",
      "Epoch 19/70\n",
      "14/14 [==============================] - 0s 9ms/step - loss: 0.7097 - accuracy: 0.6973 - val_loss: 0.6986 - val_accuracy: 0.7145\n",
      "Epoch 20/70\n",
      "14/14 [==============================] - 0s 10ms/step - loss: 0.6970 - accuracy: 0.7055 - val_loss: 0.6875 - val_accuracy: 0.7353\n",
      "Epoch 21/70\n",
      "14/14 [==============================] - 0s 9ms/step - loss: 0.6930 - accuracy: 0.7159 - val_loss: 0.6922 - val_accuracy: 0.7457\n",
      "Epoch 22/70\n",
      "14/14 [==============================] - 0s 9ms/step - loss: 0.6802 - accuracy: 0.7300 - val_loss: 0.6850 - val_accuracy: 0.7370\n",
      "Epoch 23/70\n",
      "14/14 [==============================] - 0s 10ms/step - loss: 0.6840 - accuracy: 0.7033 - val_loss: 0.6949 - val_accuracy: 0.7370\n",
      "Epoch 24/70\n",
      "14/14 [==============================] - 0s 9ms/step - loss: 0.6907 - accuracy: 0.7211 - val_loss: 0.6915 - val_accuracy: 0.7197\n",
      "Epoch 25/70\n",
      "14/14 [==============================] - 0s 9ms/step - loss: 0.6686 - accuracy: 0.7181 - val_loss: 0.6864 - val_accuracy: 0.7439\n",
      "Epoch 26/70\n",
      "14/14 [==============================] - 0s 9ms/step - loss: 0.6698 - accuracy: 0.7122 - val_loss: 0.6731 - val_accuracy: 0.7457\n",
      "Epoch 27/70\n",
      "14/14 [==============================] - 0s 9ms/step - loss: 0.6571 - accuracy: 0.7136 - val_loss: 0.6730 - val_accuracy: 0.7301\n",
      "Epoch 28/70\n",
      "14/14 [==============================] - 0s 10ms/step - loss: 0.6559 - accuracy: 0.7270 - val_loss: 0.6718 - val_accuracy: 0.7612\n",
      "Epoch 29/70\n",
      "14/14 [==============================] - 0s 9ms/step - loss: 0.6542 - accuracy: 0.7307 - val_loss: 0.7036 - val_accuracy: 0.7301\n",
      "Epoch 30/70\n",
      "14/14 [==============================] - 0s 9ms/step - loss: 0.6659 - accuracy: 0.7166 - val_loss: 0.6859 - val_accuracy: 0.7422\n",
      "Epoch 31/70\n",
      "14/14 [==============================] - 0s 10ms/step - loss: 0.6570 - accuracy: 0.7188 - val_loss: 0.6809 - val_accuracy: 0.7249\n",
      "Epoch 32/70\n",
      "14/14 [==============================] - 0s 10ms/step - loss: 0.6694 - accuracy: 0.7218 - val_loss: 0.6770 - val_accuracy: 0.7266\n",
      "Epoch 33/70\n",
      "14/14 [==============================] - 0s 10ms/step - loss: 0.6770 - accuracy: 0.7040 - val_loss: 0.7132 - val_accuracy: 0.6955\n",
      "Epoch 34/70\n",
      "14/14 [==============================] - 0s 9ms/step - loss: 0.6550 - accuracy: 0.7151 - val_loss: 0.6702 - val_accuracy: 0.7388\n",
      "Epoch 35/70\n",
      "14/14 [==============================] - 0s 10ms/step - loss: 0.6513 - accuracy: 0.7196 - val_loss: 0.6776 - val_accuracy: 0.7474\n",
      "Epoch 36/70\n",
      "14/14 [==============================] - 0s 9ms/step - loss: 0.6326 - accuracy: 0.7285 - val_loss: 0.6700 - val_accuracy: 0.7388\n",
      "Epoch 37/70\n",
      "14/14 [==============================] - 0s 9ms/step - loss: 0.6264 - accuracy: 0.7337 - val_loss: 0.6584 - val_accuracy: 0.7630\n",
      "Epoch 38/70\n",
      "14/14 [==============================] - 0s 10ms/step - loss: 0.6311 - accuracy: 0.7374 - val_loss: 0.6623 - val_accuracy: 0.7197\n",
      "Epoch 39/70\n",
      "14/14 [==============================] - 0s 9ms/step - loss: 0.6376 - accuracy: 0.7315 - val_loss: 0.6644 - val_accuracy: 0.7509\n",
      "Epoch 40/70\n",
      "14/14 [==============================] - 0s 8ms/step - loss: 0.6320 - accuracy: 0.7329 - val_loss: 0.6831 - val_accuracy: 0.7318\n",
      "Epoch 41/70\n",
      "14/14 [==============================] - 0s 9ms/step - loss: 0.6284 - accuracy: 0.7329 - val_loss: 0.6932 - val_accuracy: 0.7232\n",
      "Epoch 42/70\n",
      "14/14 [==============================] - 0s 10ms/step - loss: 0.6399 - accuracy: 0.7285 - val_loss: 0.6927 - val_accuracy: 0.7249\n",
      "Epoch 43/70\n",
      "14/14 [==============================] - 0s 9ms/step - loss: 0.6284 - accuracy: 0.7285 - val_loss: 0.7538 - val_accuracy: 0.7042\n",
      "Epoch 44/70\n",
      "14/14 [==============================] - 0s 9ms/step - loss: 0.6335 - accuracy: 0.7292 - val_loss: 0.6888 - val_accuracy: 0.7284\n",
      "Epoch 45/70\n",
      "14/14 [==============================] - 0s 10ms/step - loss: 0.6256 - accuracy: 0.7300 - val_loss: 0.6621 - val_accuracy: 0.7439\n",
      "Epoch 46/70\n",
      "14/14 [==============================] - 0s 10ms/step - loss: 0.6074 - accuracy: 0.7389 - val_loss: 0.6863 - val_accuracy: 0.7405\n",
      "Epoch 47/70\n",
      "14/14 [==============================] - 0s 10ms/step - loss: 0.6071 - accuracy: 0.7478 - val_loss: 0.6650 - val_accuracy: 0.7422\n",
      "Epoch 48/70\n",
      "14/14 [==============================] - 0s 9ms/step - loss: 0.6048 - accuracy: 0.7292 - val_loss: 0.6534 - val_accuracy: 0.7491\n",
      "Epoch 49/70\n",
      "14/14 [==============================] - 0s 9ms/step - loss: 0.5956 - accuracy: 0.7366 - val_loss: 0.6703 - val_accuracy: 0.7318\n",
      "Epoch 50/70\n",
      "14/14 [==============================] - 0s 8ms/step - loss: 0.6047 - accuracy: 0.7359 - val_loss: 0.6644 - val_accuracy: 0.7405\n",
      "Epoch 51/70\n",
      "14/14 [==============================] - 0s 9ms/step - loss: 0.5886 - accuracy: 0.7559 - val_loss: 0.7058 - val_accuracy: 0.6851\n",
      "Epoch 52/70\n",
      "14/14 [==============================] - 0s 10ms/step - loss: 0.6027 - accuracy: 0.7463 - val_loss: 0.7091 - val_accuracy: 0.6799\n",
      "Epoch 53/70\n",
      "14/14 [==============================] - 0s 10ms/step - loss: 0.5984 - accuracy: 0.7344 - val_loss: 0.6752 - val_accuracy: 0.7318\n",
      "Epoch 54/70\n",
      "14/14 [==============================] - 0s 10ms/step - loss: 0.5993 - accuracy: 0.7552 - val_loss: 0.6601 - val_accuracy: 0.7388\n",
      "Epoch 55/70\n",
      "14/14 [==============================] - 0s 9ms/step - loss: 0.5831 - accuracy: 0.7463 - val_loss: 0.6589 - val_accuracy: 0.7405\n",
      "Epoch 56/70\n",
      "14/14 [==============================] - 0s 8ms/step - loss: 0.5833 - accuracy: 0.7485 - val_loss: 0.6591 - val_accuracy: 0.7561\n",
      "Epoch 57/70\n",
      "14/14 [==============================] - 0s 9ms/step - loss: 0.5867 - accuracy: 0.7426 - val_loss: 0.6986 - val_accuracy: 0.7301\n",
      "Epoch 58/70\n",
      "14/14 [==============================] - 0s 9ms/step - loss: 0.5831 - accuracy: 0.7530 - val_loss: 0.6734 - val_accuracy: 0.7336\n",
      "Epoch 59/70\n",
      "14/14 [==============================] - 0s 8ms/step - loss: 0.5777 - accuracy: 0.7582 - val_loss: 0.6652 - val_accuracy: 0.7491\n",
      "Epoch 60/70\n",
      "14/14 [==============================] - 0s 8ms/step - loss: 0.5773 - accuracy: 0.7596 - val_loss: 0.6702 - val_accuracy: 0.7457\n",
      "Epoch 61/70\n",
      "14/14 [==============================] - 0s 8ms/step - loss: 0.5747 - accuracy: 0.7507 - val_loss: 0.6909 - val_accuracy: 0.7284\n",
      "Epoch 62/70\n",
      "14/14 [==============================] - 0s 8ms/step - loss: 0.5764 - accuracy: 0.7463 - val_loss: 0.6724 - val_accuracy: 0.7474\n",
      "Epoch 63/70\n",
      "14/14 [==============================] - 0s 8ms/step - loss: 0.5663 - accuracy: 0.7604 - val_loss: 0.6669 - val_accuracy: 0.7491\n",
      "Epoch 64/70\n",
      "14/14 [==============================] - 0s 8ms/step - loss: 0.5659 - accuracy: 0.7596 - val_loss: 0.6916 - val_accuracy: 0.7111\n",
      "Epoch 65/70\n",
      "14/14 [==============================] - 0s 8ms/step - loss: 0.5701 - accuracy: 0.7507 - val_loss: 0.6686 - val_accuracy: 0.7301\n",
      "Epoch 66/70\n",
      "14/14 [==============================] - 0s 7ms/step - loss: 0.5631 - accuracy: 0.7507 - val_loss: 0.6859 - val_accuracy: 0.7232\n",
      "Epoch 67/70\n",
      "14/14 [==============================] - 0s 8ms/step - loss: 0.5759 - accuracy: 0.7426 - val_loss: 0.7040 - val_accuracy: 0.7145\n",
      "Epoch 68/70\n",
      "14/14 [==============================] - 0s 8ms/step - loss: 0.5716 - accuracy: 0.7559 - val_loss: 0.6689 - val_accuracy: 0.7318\n",
      "Epoch 69/70\n",
      "14/14 [==============================] - 0s 9ms/step - loss: 0.5498 - accuracy: 0.7737 - val_loss: 0.6656 - val_accuracy: 0.7543\n",
      "Epoch 70/70\n",
      "14/14 [==============================] - 0s 8ms/step - loss: 0.5642 - accuracy: 0.7522 - val_loss: 0.6966 - val_accuracy: 0.7439\n"
     ]
    }
   ],
   "source": [
    "# Training the classifier\n",
    "train1 = model1.fit(X_train_sc1, Y_train1, epochs=70,batch_size=100, validation_data=(X_test_sc1,Y_test1))"
   ]
  },
  {
   "cell_type": "markdown",
   "id": "f90b5f37",
   "metadata": {},
   "source": [
    "Here we can clearly see that the loss is getting lower and accuracy is increasing. This depicts that everything is doing good here also in our upgraded model."
   ]
  },
  {
   "cell_type": "markdown",
   "id": "dca61f4c",
   "metadata": {},
   "source": [
    "Also, in later epochs, greater accuracy has been achieved comparatively to earlier model which shows a clear improvisation."
   ]
  },
  {
   "cell_type": "code",
   "execution_count": 35,
   "id": "b7261698",
   "metadata": {},
   "outputs": [
    {
     "data": {
      "text/plain": [
       "Text(0.5, 1.0, 'Training and validation Accuracy')"
      ]
     },
     "execution_count": 35,
     "metadata": {},
     "output_type": "execute_result"
    },
    {
     "data": {
      "image/png": "[encoded data removed]",
      "text/plain": [
       "<Figure size 432x288 with 1 Axes>"
      ]
     },
     "metadata": {
      "needs_background": "light"
     },
     "output_type": "display_data"
    }
   ],
   "source": [
    "# Plotting of Training-Validation Accuracy of upgraded model\n",
    "accuracy = train1.history['accuracy']\n",
    "val_accuracy = train1.history['val_accuracy']\n",
    "\n",
    "epochs = range(len(accuracy)) # Get number of epochs\n",
    "\n",
    "plt.plot(epochs, accuracy, label = 'Training Accuracy' )\n",
    "plt.plot(epochs, val_accuracy, label = 'Validation Accuracy')\n",
    "plt.legend(loc = 'lower right')\n",
    "plt.title('Training and validation Accuracy')\n"
   ]
  },
  {
   "cell_type": "code",
   "execution_count": 36,
   "id": "f216d69d",
   "metadata": {},
   "outputs": [
    {
     "data": {
      "text/plain": [
       "Text(0.5, 1.0, 'Training and Validation Loss')"
      ]
     },
     "execution_count": 36,
     "metadata": {},
     "output_type": "execute_result"
    },
    {
     "data": {
      "image/png": "[encoded data removed]",
      "text/plain": [
       "<Figure size 432x288 with 1 Axes>"
      ]
     },
     "metadata": {
      "needs_background": "light"
     },
     "output_type": "display_data"
    }
   ],
   "source": [
    "# Plotting of Training-Validation Loss of upgraded model\n",
    "loss = train1.history['loss']\n",
    "val_loss = train1.history['val_loss']\n",
    "\n",
    "plt.plot(epochs, loss, label = 'Training Loss' )\n",
    "plt.plot(epochs, val_loss, label = 'Validation Loss')\n",
    "plt.legend(loc = 'upper right')\n",
    "plt.title('Training and Validation Loss')"
   ]
  },
  {
   "cell_type": "code",
   "execution_count": 37,
   "id": "d5387354",
   "metadata": {},
   "outputs": [
    {
     "name": "stdout",
     "output_type": "stream",
     "text": [
      "Loss: 0.6966260075569153\n",
      "Accuracy: 0.7439446449279785\n"
     ]
    }
   ],
   "source": [
    "# Performance of our upgraded model\n",
    "scores = model1.evaluate(X_test_sc1, Y_test1, verbose=0)\n",
    "print(\"Loss:\", scores[0])\n",
    "print(\"Accuracy:\", scores[1])"
   ]
  },
  {
   "cell_type": "code",
   "execution_count": 38,
   "id": "ff54ea25",
   "metadata": {},
   "outputs": [
    {
     "name": "stdout",
     "output_type": "stream",
     "text": [
      "Test Classification Report               precision    recall  f1-score   support\n",
      "\n",
      "           0       0.94      1.00      0.97       185\n",
      "           1       0.00      0.00      0.00        12\n",
      "           2       0.73      0.69      0.71       169\n",
      "           3       0.66      0.61      0.64       161\n",
      "           4       0.42      0.64      0.51        45\n",
      "           5       0.00      0.00      0.00         6\n",
      "\n",
      "    accuracy                           0.74       578\n",
      "   macro avg       0.46      0.49      0.47       578\n",
      "weighted avg       0.73      0.74      0.74       578\n",
      "\n"
     ]
    }
   ],
   "source": [
    "# Classification report of upgraded model\n",
    "Y_pred1 = model1.predict(X_test_sc1)\n",
    "Y_pred1=np.argmax(Y_pred1, axis=1)\n",
    "Y_test1=np.argmax(Y_test1, axis=1)\n",
    "print(\"Test Classification Report\",classification_report(Y_test1,Y_pred1))"
   ]
  },
  {
   "cell_type": "markdown",
   "id": "bb7eec7d",
   "metadata": {},
   "source": [
    "The accuracy of the new architecture has been improved by a pretty much margin. Along with loss being depreciated by a good extent in comparison with the earlier model."
   ]
  },
  {
   "cell_type": "code",
   "execution_count": null,
   "id": "e57d519f",
   "metadata": {},
   "outputs": [],
   "source": []
  },
  {
   "cell_type": "code",
   "execution_count": null,
   "id": "b10c7ae7",
   "metadata": {},
   "outputs": [],
   "source": []
  }
 ],
 "metadata": {
  "kernelspec": {
   "display_name": "Python 3",
   "language": "python",
   "name": "python3"
  },
  "language_info": {
   "codemirror_mode": {
    "name": "ipython",
    "version": 3
   },
   "file_extension": ".py",
   "mimetype": "text/x-python",
   "name": "python",
   "nbconvert_exporter": "python",
   "pygments_lexer": "ipython3",
   "version": "3.8.8"
  }
 },
 "nbformat": 4,
 "nbformat_minor": 5
}
