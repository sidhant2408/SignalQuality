{
 "cells": [
  {
   "cell_type": "markdown",
   "id": "3986f282",
   "metadata": {},
   "source": [
    "# 1. Data Import and Understanding"
   ]
  },
  {
   "cell_type": "markdown",
   "id": "7638867d",
   "metadata": {},
   "source": [
    "1.1 Importing required libraries and reading data"
   ]
  },
  {
   "cell_type": "code",
   "execution_count": 1,
   "id": "a5441f2e",
   "metadata": {},
   "outputs": [],
   "source": [
    "#import required libraries \n",
    "import pandas as pd\n",
    "import numpy as np\n",
    "import seaborn as sns\n",
    "import matplotlib.pyplot as plt\n",
    "import warnings\n",
    "warnings.filterwarnings('ignore')\n",
    "\n",
    "from sklearn.preprocessing import StandardScaler\n",
    "from sklearn.model_selection import train_test_split\n",
    "from sklearn import metrics\n",
    "from sklearn import preprocessing\n",
    "from sklearn.metrics import average_precision_score, confusion_matrix, accuracy_score, classification_report, plot_confusion_matrix\n",
    "from tensorflow.keras.models import Sequential\n",
    "from tensorflow.keras.layers import Dense, Input\n",
    "from tensorflow.keras.utils import to_categorical\n",
    "from sklearn.preprocessing import MinMaxScaler\n",
    "from sklearn.preprocessing import OneHotEncoder\n",
    "from imblearn.over_sampling import SMOTE\n",
    "from sklearn.svm import SVC\n",
    "import tensorflow as tf"
   ]
  },
  {
   "cell_type": "code",
   "execution_count": 2,
   "id": "53368b8e",
   "metadata": {},
   "outputs": [
    {
     "data": {
      "text/html": [
       "<div>\n",
       "<style scoped>\n",
       "    .dataframe tbody tr th:only-of-type {\n",
       "        vertical-align: middle;\n",
       "    }\n",
       "\n",
       "    .dataframe tbody tr th {\n",
       "        vertical-align: top;\n",
       "    }\n",
       "\n",
       "    .dataframe thead th {\n",
       "        text-align: right;\n",
       "    }\n",
       "</style>\n",
       "<table border=\"1\" class=\"dataframe\">\n",
       "  <thead>\n",
       "    <tr style=\"text-align: right;\">\n",
       "      <th></th>\n",
       "      <th>Parameter 1</th>\n",
       "      <th>Parameter 2</th>\n",
       "      <th>Parameter 3</th>\n",
       "      <th>Parameter 4</th>\n",
       "      <th>Parameter 5</th>\n",
       "      <th>Parameter 6</th>\n",
       "      <th>Parameter 7</th>\n",
       "      <th>Parameter 8</th>\n",
       "      <th>Parameter 9</th>\n",
       "      <th>Parameter 10</th>\n",
       "      <th>Parameter 11</th>\n",
       "      <th>Signal_Strength</th>\n",
       "    </tr>\n",
       "  </thead>\n",
       "  <tbody>\n",
       "    <tr>\n",
       "      <th>0</th>\n",
       "      <td>7.4</td>\n",
       "      <td>0.70</td>\n",
       "      <td>0.0</td>\n",
       "      <td>1.9</td>\n",
       "      <td>0.076</td>\n",
       "      <td>11.0</td>\n",
       "      <td>34.0</td>\n",
       "      <td>0.9978</td>\n",
       "      <td>3.51</td>\n",
       "      <td>0.56</td>\n",
       "      <td>9.4</td>\n",
       "      <td>5</td>\n",
       "    </tr>\n",
       "    <tr>\n",
       "      <th>1</th>\n",
       "      <td>7.8</td>\n",
       "      <td>0.88</td>\n",
       "      <td>0.0</td>\n",
       "      <td>2.6</td>\n",
       "      <td>0.098</td>\n",
       "      <td>25.0</td>\n",
       "      <td>67.0</td>\n",
       "      <td>0.9968</td>\n",
       "      <td>3.20</td>\n",
       "      <td>0.68</td>\n",
       "      <td>9.8</td>\n",
       "      <td>5</td>\n",
       "    </tr>\n",
       "  </tbody>\n",
       "</table>\n",
       "</div>"
      ],
      "text/plain": [
       "   Parameter 1  Parameter 2  Parameter 3  Parameter 4  Parameter 5  \\\n",
       "0          7.4         0.70          0.0          1.9        0.076   \n",
       "1          7.8         0.88          0.0          2.6        0.098   \n",
       "\n",
       "   Parameter 6  Parameter 7  Parameter 8  Parameter 9  Parameter 10  \\\n",
       "0         11.0         34.0       0.9978         3.51          0.56   \n",
       "1         25.0         67.0       0.9968         3.20          0.68   \n",
       "\n",
       "   Parameter 11  Signal_Strength  \n",
       "0           9.4                5  \n",
       "1           9.8                5  "
      ]
     },
     "execution_count": 2,
     "metadata": {},
     "output_type": "execute_result"
    }
   ],
   "source": [
    "#reading data\n",
    "df=pd.read_csv(\"Signal.csv\")\n",
    "df.head(2)"
   ]
  },
  {
   "cell_type": "markdown",
   "id": "1d47793b",
   "metadata": {},
   "source": [
    "1.2 Checking missing values and percentage"
   ]
  },
  {
   "cell_type": "code",
   "execution_count": 3,
   "id": "66a79396",
   "metadata": {},
   "outputs": [
    {
     "data": {
      "text/plain": [
       "((1599, 12), 19188)"
      ]
     },
     "execution_count": 3,
     "metadata": {},
     "output_type": "execute_result"
    }
   ],
   "source": [
    "df.shape,df.size\n",
    "# df.dtypes"
   ]
  },
  {
   "cell_type": "code",
   "execution_count": 4,
   "id": "158f5884",
   "metadata": {},
   "outputs": [
    {
     "name": "stdout",
     "output_type": "stream",
     "text": [
      "Parameter 1        0.0\n",
      "Parameter 2        0.0\n",
      "Parameter 3        0.0\n",
      "Parameter 4        0.0\n",
      "Parameter 5        0.0\n",
      "Parameter 6        0.0\n",
      "Parameter 7        0.0\n",
      "Parameter 8        0.0\n",
      "Parameter 9        0.0\n",
      "Parameter 10       0.0\n",
      "Parameter 11       0.0\n",
      "Signal_Strength    0.0\n",
      "dtype: float64\n"
     ]
    }
   ],
   "source": [
    "missing_values = df.isnull().sum()/len(df)*100\n",
    "print(missing_values)"
   ]
  },
  {
   "cell_type": "code",
   "execution_count": 5,
   "id": "98036787",
   "metadata": {},
   "outputs": [
    {
     "data": {
      "text/plain": [
       "<AxesSubplot:>"
      ]
     },
     "execution_count": 5,
     "metadata": {},
     "output_type": "execute_result"
    },
    {
     "data": {
      "image/png": "[encoded data removed]",
      "text/plain": [
       "<Figure size 432x288 with 2 Axes>"
      ]
     },
     "metadata": {
      "needs_background": "light"
     },
     "output_type": "display_data"
    }
   ],
   "source": [
    "sns.heatmap(df.isnull(), yticklabels=False, cmap='Blues')"
   ]
  },
  {
   "cell_type": "markdown",
   "id": "4243d93b",
   "metadata": {},
   "source": [
    "1.3 Presence of duplicate dataset"
   ]
  },
  {
   "cell_type": "code",
   "execution_count": 6,
   "id": "c03c5187",
   "metadata": {},
   "outputs": [
    {
     "name": "stdout",
     "output_type": "stream",
     "text": [
      "False    71.23202\n",
      "True     28.76798\n",
      "dtype: float64\n"
     ]
    }
   ],
   "source": [
    "percentage = df.duplicated(keep=False).value_counts(normalize=True) * 100\n",
    "print (percentage)"
   ]
  },
  {
   "cell_type": "code",
   "execution_count": 7,
   "id": "24086317",
   "metadata": {},
   "outputs": [],
   "source": [
    "df=df.drop_duplicates()"
   ]
  },
  {
   "cell_type": "markdown",
   "id": "72c3d412",
   "metadata": {},
   "source": [
    "1.4 Visualize distribution of target varialbles"
   ]
  },
  {
   "cell_type": "code",
   "execution_count": 8,
   "id": "cbc2aa71",
   "metadata": {},
   "outputs": [
    {
     "data": {
      "text/plain": [
       "<AxesSubplot:ylabel='Signal_Strength'>"
      ]
     },
     "execution_count": 8,
     "metadata": {},
     "output_type": "execute_result"
    },
    {
     "data": {
      "image/png": "[encoded data removed]",
      "text/plain": [
       "<Figure size 432x288 with 1 Axes>"
      ]
     },
     "metadata": {},
     "output_type": "display_data"
    }
   ],
   "source": [
    "def func(pct):\n",
    "  return \"{:1.2f}%\".format(pct)\n",
    "\n",
    "df['Signal_Strength'].value_counts().plot(kind='pie',autopct=lambda pct: func(pct), explode=[0.1,0.1,0.1,0.1,1,1],shadow=True)"
   ]
  },
  {
   "cell_type": "code",
   "execution_count": 9,
   "id": "31102418",
   "metadata": {},
   "outputs": [
    {
     "data": {
      "text/plain": [
       "<AxesSubplot:ylabel='Density'>"
      ]
     },
     "execution_count": 9,
     "metadata": {},
     "output_type": "execute_result"
    },
    {
     "data": {
      "image/png": "[encoded data removed]",
      "text/plain": [
       "<Figure size 432x288 with 1 Axes>"
      ]
     },
     "metadata": {
      "needs_background": "light"
     },
     "output_type": "display_data"
    }
   ],
   "source": [
    "df['Signal_Strength'].plot.kde()"
   ]
  },
  {
   "cell_type": "code",
   "execution_count": 10,
   "id": "86b64604",
   "metadata": {},
   "outputs": [
    {
     "data": {
      "text/plain": [
       "<AxesSubplot:ylabel='Frequency'>"
      ]
     },
     "execution_count": 10,
     "metadata": {},
     "output_type": "execute_result"
    },
    {
     "data": {
      "image/png": "[encoded data removed]",
      "text/plain": [
       "<Figure size 432x288 with 1 Axes>"
      ]
     },
     "metadata": {
      "needs_background": "light"
     },
     "output_type": "display_data"
    }
   ],
   "source": [
    "df['Signal_Strength'].plot.hist()"
   ]
  },
  {
   "cell_type": "code",
   "execution_count": 11,
   "id": "247ce626",
   "metadata": {},
   "outputs": [
    {
     "data": {
      "image/png": "[encoded data removed]",
      "text/plain": [
       "<Figure size 1080x360 with 2 Axes>"
      ]
     },
     "metadata": {
      "needs_background": "light"
     },
     "output_type": "display_data"
    }
   ],
   "source": [
    "col = 'Signal_Strength'\n",
    "x1 = df[col]\n",
    "\n",
    "_, ax = plt.subplots(1, 2, figsize=(15, 5))\n",
    "sns.boxplot(x=x1, ax=ax[0]);\n",
    "sns.histplot(x=x1, ax=ax[1]);\n",
    "ax[0].set_title(f\"Boxplot - {col}\", fontweight='bold');\n",
    "ax[1].set_title(f\"Histplot - {col}\", fontweight='bold');"
   ]
  },
  {
   "cell_type": "markdown",
   "id": "302478ec",
   "metadata": {},
   "source": [
    "The signal strength is max at 5th and 6th Parameter"
   ]
  },
  {
   "cell_type": "markdown",
   "id": "97b053ef",
   "metadata": {},
   "source": [
    "While Parameter 3 and 8 are outliers"
   ]
  },
  {
   "cell_type": "markdown",
   "id": "00ab3c26",
   "metadata": {},
   "source": [
    "# 2. Data preprocessing"
   ]
  },
  {
   "cell_type": "markdown",
   "id": "3f5466c3",
   "metadata": {},
   "source": [
    "2.1 Split the data into X & Y"
   ]
  },
  {
   "cell_type": "code",
   "execution_count": 12,
   "id": "4bf1f303",
   "metadata": {},
   "outputs": [
    {
     "name": "stdout",
     "output_type": "stream",
     "text": [
      "(1359, 11) 14949\n",
      "(1359,) 1359\n"
     ]
    }
   ],
   "source": [
    "X= df.drop(['Signal_Strength'], axis = 1)\n",
    "Y = df['Signal_Strength']\n",
    "print(X.shape,X.size)\n",
    "print(Y.shape,Y.size)"
   ]
  },
  {
   "cell_type": "markdown",
   "id": "15f0140d",
   "metadata": {},
   "source": [
    "2.2 Splitting data into training & testing, 70:30 ratio"
   ]
  },
  {
   "cell_type": "code",
   "execution_count": 13,
   "id": "47f3561d",
   "metadata": {},
   "outputs": [],
   "source": [
    "X_train, X_test, Y_train, Y_test = train_test_split(X, Y , test_size = 0.3, random_state =42)"
   ]
  },
  {
   "cell_type": "markdown",
   "id": "003eedb1",
   "metadata": {},
   "source": [
    "2.3 Checking the shape of of the training and testing dataset to be in sync"
   ]
  },
  {
   "cell_type": "code",
   "execution_count": 14,
   "id": "bced259b",
   "metadata": {},
   "outputs": [
    {
     "name": "stdout",
     "output_type": "stream",
     "text": [
      "(951, 11) (408, 11) (951,) (408,)\n"
     ]
    }
   ],
   "source": [
    "print(X_train.shape, X_test.shape, Y_train.shape, Y_test.shape)"
   ]
  },
  {
   "cell_type": "markdown",
   "id": "4c2a75d7",
   "metadata": {},
   "source": [
    "2.4 Data normalization"
   ]
  },
  {
   "cell_type": "code",
   "execution_count": 15,
   "id": "057c1a54",
   "metadata": {},
   "outputs": [],
   "source": [
    "scaler = MinMaxScaler()\n",
    "X_train_sc = scaler.fit_transform(X_train)\n",
    "X_test_sc = scaler.transform(X_test)"
   ]
  },
  {
   "cell_type": "markdown",
   "id": "151c8f81",
   "metadata": {},
   "source": [
    "2.5 Transform labels into format acceptable by neural networks"
   ]
  },
  {
   "cell_type": "code",
   "execution_count": 16,
   "id": "9fdcaeff",
   "metadata": {},
   "outputs": [],
   "source": [
    "label_encoder = OneHotEncoder(sparse=False)\n",
    "Y_train=label_encoder.fit_transform(Y_train.to_frame())\n",
    "Y_test=label_encoder.fit_transform(Y_test.to_frame())"
   ]
  },
  {
   "cell_type": "markdown",
   "id": "3a70143f",
   "metadata": {},
   "source": [
    "# 3. Model Training and evaluation using neural network"
   ]
  },
  {
   "cell_type": "markdown",
   "id": "2cde73d5",
   "metadata": {},
   "source": [
    "3.1 Design a neural network"
   ]
  },
  {
   "cell_type": "code",
   "execution_count": 17,
   "id": "4202d73d",
   "metadata": {},
   "outputs": [],
   "source": [
    "model = Sequential([Input(shape=(11,)), \n",
    "                   Dense(512,activation='relu'), \n",
    "                   Dense(128,activation='relu'),\n",
    "                   Dense(6,activation='softmax')])"
   ]
  },
  {
   "cell_type": "code",
   "execution_count": 18,
   "id": "c726df9d",
   "metadata": {},
   "outputs": [
    {
     "name": "stdout",
     "output_type": "stream",
     "text": [
      "Model: \"sequential\"\n",
      "_________________________________________________________________\n",
      "Layer (type)                 Output Shape              Param #   \n",
      "=================================================================\n",
      "dense (Dense)                (None, 512)               6144      \n",
      "_________________________________________________________________\n",
      "dense_1 (Dense)              (None, 128)               65664     \n",
      "_________________________________________________________________\n",
      "dense_2 (Dense)              (None, 6)                 774       \n",
      "=================================================================\n",
      "Total params: 72,582\n",
      "Trainable params: 72,582\n",
      "Non-trainable params: 0\n",
      "_________________________________________________________________\n"
     ]
    }
   ],
   "source": [
    "model.summary()"
   ]
  },
  {
   "cell_type": "code",
   "execution_count": 19,
   "id": "e6c242eb",
   "metadata": {},
   "outputs": [],
   "source": [
    "from tensorflow.keras.optimizers import Adam\n",
    "\n",
    "model.compile(loss='categorical_crossentropy',\n",
    "              optimizer=Adam(lr=0.01), metrics = ['accuracy'])"
   ]
  },
  {
   "cell_type": "markdown",
   "id": "53df7977",
   "metadata": {},
   "source": [
    "3.2 Training the classifier "
   ]
  },
  {
   "cell_type": "code",
   "execution_count": 20,
   "id": "b9ba14b0",
   "metadata": {},
   "outputs": [
    {
     "name": "stdout",
     "output_type": "stream",
     "text": [
      "Epoch 1/50\n",
      "7/7 [==============================] - 0s 41ms/step - loss: 1.3888 - accuracy: 0.4427 - val_loss: 1.2314 - val_accuracy: 0.4412\n",
      "Epoch 2/50\n",
      "7/7 [==============================] - 0s 8ms/step - loss: 1.1740 - accuracy: 0.4869 - val_loss: 1.0983 - val_accuracy: 0.5637\n",
      "Epoch 3/50\n",
      "7/7 [==============================] - 0s 9ms/step - loss: 1.0703 - accuracy: 0.5499 - val_loss: 1.0151 - val_accuracy: 0.5980\n",
      "Epoch 4/50\n",
      "7/7 [==============================] - 0s 9ms/step - loss: 1.0425 - accuracy: 0.5605 - val_loss: 0.9697 - val_accuracy: 0.5809\n",
      "Epoch 5/50\n",
      "7/7 [==============================] - 0s 8ms/step - loss: 1.0169 - accuracy: 0.5647 - val_loss: 0.9735 - val_accuracy: 0.6201\n",
      "Epoch 6/50\n",
      "7/7 [==============================] - 0s 8ms/step - loss: 0.9949 - accuracy: 0.5783 - val_loss: 0.9475 - val_accuracy: 0.5931\n",
      "Epoch 7/50\n",
      "7/7 [==============================] - 0s 8ms/step - loss: 0.9850 - accuracy: 0.5762 - val_loss: 0.9630 - val_accuracy: 0.5809\n",
      "Epoch 8/50\n",
      "7/7 [==============================] - 0s 9ms/step - loss: 0.9805 - accuracy: 0.5720 - val_loss: 0.9319 - val_accuracy: 0.5956\n",
      "Epoch 9/50\n",
      "7/7 [==============================] - 0s 8ms/step - loss: 0.9774 - accuracy: 0.5794 - val_loss: 0.9328 - val_accuracy: 0.6127\n",
      "Epoch 10/50\n",
      "7/7 [==============================] - 0s 8ms/step - loss: 0.9726 - accuracy: 0.5710 - val_loss: 0.9447 - val_accuracy: 0.6029\n",
      "Epoch 11/50\n",
      "7/7 [==============================] - 0s 9ms/step - loss: 0.9685 - accuracy: 0.5783 - val_loss: 0.9942 - val_accuracy: 0.5637\n",
      "Epoch 12/50\n",
      "7/7 [==============================] - 0s 8ms/step - loss: 0.9718 - accuracy: 0.5752 - val_loss: 0.9466 - val_accuracy: 0.6127\n",
      "Epoch 13/50\n",
      "7/7 [==============================] - 0s 8ms/step - loss: 0.9645 - accuracy: 0.5783 - val_loss: 0.9232 - val_accuracy: 0.6029\n",
      "Epoch 14/50\n",
      "7/7 [==============================] - 0s 7ms/step - loss: 0.9551 - accuracy: 0.5910 - val_loss: 0.9135 - val_accuracy: 0.5956\n",
      "Epoch 15/50\n",
      "7/7 [==============================] - 0s 9ms/step - loss: 0.9438 - accuracy: 0.6004 - val_loss: 0.9154 - val_accuracy: 0.6324\n",
      "Epoch 16/50\n",
      "7/7 [==============================] - 0s 8ms/step - loss: 0.9371 - accuracy: 0.5920 - val_loss: 0.9439 - val_accuracy: 0.6201\n",
      "Epoch 17/50\n",
      "7/7 [==============================] - 0s 8ms/step - loss: 0.9403 - accuracy: 0.5868 - val_loss: 0.9254 - val_accuracy: 0.5980\n",
      "Epoch 18/50\n",
      "7/7 [==============================] - 0s 8ms/step - loss: 0.9519 - accuracy: 0.5668 - val_loss: 0.9198 - val_accuracy: 0.5931\n",
      "Epoch 19/50\n",
      "7/7 [==============================] - 0s 9ms/step - loss: 0.9385 - accuracy: 0.5931 - val_loss: 0.9302 - val_accuracy: 0.6176\n",
      "Epoch 20/50\n",
      "7/7 [==============================] - 0s 7ms/step - loss: 0.9351 - accuracy: 0.5899 - val_loss: 0.9176 - val_accuracy: 0.6029\n",
      "Epoch 21/50\n",
      "7/7 [==============================] - 0s 7ms/step - loss: 0.9314 - accuracy: 0.5952 - val_loss: 0.9051 - val_accuracy: 0.6176\n",
      "Epoch 22/50\n",
      "7/7 [==============================] - 0s 8ms/step - loss: 0.9216 - accuracy: 0.6025 - val_loss: 0.9161 - val_accuracy: 0.6127\n",
      "Epoch 23/50\n",
      "7/7 [==============================] - 0s 8ms/step - loss: 0.9120 - accuracy: 0.5973 - val_loss: 0.9321 - val_accuracy: 0.6152\n",
      "Epoch 24/50\n",
      "7/7 [==============================] - 0s 8ms/step - loss: 0.9063 - accuracy: 0.6225 - val_loss: 0.9056 - val_accuracy: 0.6201\n",
      "Epoch 25/50\n",
      "7/7 [==============================] - 0s 8ms/step - loss: 0.9032 - accuracy: 0.6299 - val_loss: 0.9321 - val_accuracy: 0.6029\n",
      "Epoch 26/50\n",
      "7/7 [==============================] - 0s 9ms/step - loss: 0.9145 - accuracy: 0.5931 - val_loss: 0.9408 - val_accuracy: 0.5931\n",
      "Epoch 27/50\n",
      "7/7 [==============================] - 0s 8ms/step - loss: 0.8997 - accuracy: 0.6078 - val_loss: 0.9338 - val_accuracy: 0.6054\n",
      "Epoch 28/50\n",
      "7/7 [==============================] - 0s 8ms/step - loss: 0.9086 - accuracy: 0.6130 - val_loss: 0.9959 - val_accuracy: 0.5686\n",
      "Epoch 29/50\n",
      "7/7 [==============================] - 0s 8ms/step - loss: 0.9196 - accuracy: 0.5994 - val_loss: 0.9474 - val_accuracy: 0.5956\n",
      "Epoch 30/50\n",
      "7/7 [==============================] - 0s 8ms/step - loss: 0.9103 - accuracy: 0.6057 - val_loss: 0.9260 - val_accuracy: 0.6201\n",
      "Epoch 31/50\n",
      "7/7 [==============================] - 0s 8ms/step - loss: 0.8993 - accuracy: 0.6036 - val_loss: 0.9538 - val_accuracy: 0.5956\n",
      "Epoch 32/50\n",
      "7/7 [==============================] - 0s 9ms/step - loss: 0.8899 - accuracy: 0.6109 - val_loss: 0.9409 - val_accuracy: 0.6029\n",
      "Epoch 33/50\n",
      "7/7 [==============================] - 0s 8ms/step - loss: 0.8834 - accuracy: 0.6257 - val_loss: 0.9434 - val_accuracy: 0.5956\n",
      "Epoch 34/50\n",
      "7/7 [==============================] - 0s 8ms/step - loss: 0.8646 - accuracy: 0.6193 - val_loss: 0.9594 - val_accuracy: 0.6029\n",
      "Epoch 35/50\n",
      "7/7 [==============================] - 0s 9ms/step - loss: 0.8653 - accuracy: 0.6204 - val_loss: 0.9446 - val_accuracy: 0.6152\n",
      "Epoch 36/50\n",
      "7/7 [==============================] - 0s 8ms/step - loss: 0.8639 - accuracy: 0.6351 - val_loss: 0.9655 - val_accuracy: 0.5833\n",
      "Epoch 37/50\n",
      "7/7 [==============================] - 0s 7ms/step - loss: 0.8710 - accuracy: 0.6246 - val_loss: 0.9402 - val_accuracy: 0.6029\n",
      "Epoch 38/50\n",
      "7/7 [==============================] - 0s 8ms/step - loss: 0.8613 - accuracy: 0.6246 - val_loss: 0.9641 - val_accuracy: 0.5882\n",
      "Epoch 39/50\n",
      "7/7 [==============================] - 0s 8ms/step - loss: 0.8671 - accuracy: 0.6204 - val_loss: 0.9506 - val_accuracy: 0.5907\n",
      "Epoch 40/50\n",
      "7/7 [==============================] - 0s 9ms/step - loss: 0.8412 - accuracy: 0.6467 - val_loss: 0.9824 - val_accuracy: 0.5907\n",
      "Epoch 41/50\n",
      "7/7 [==============================] - 0s 9ms/step - loss: 0.8738 - accuracy: 0.6109 - val_loss: 0.9584 - val_accuracy: 0.5907\n",
      "Epoch 42/50\n",
      "7/7 [==============================] - 0s 7ms/step - loss: 0.8717 - accuracy: 0.6151 - val_loss: 0.9335 - val_accuracy: 0.6250\n",
      "Epoch 43/50\n",
      "7/7 [==============================] - 0s 9ms/step - loss: 0.8432 - accuracy: 0.6246 - val_loss: 0.9799 - val_accuracy: 0.6005\n",
      "Epoch 44/50\n",
      "7/7 [==============================] - 0s 7ms/step - loss: 0.8434 - accuracy: 0.6078 - val_loss: 0.9701 - val_accuracy: 0.5980\n",
      "Epoch 45/50\n",
      "7/7 [==============================] - 0s 8ms/step - loss: 0.8446 - accuracy: 0.6120 - val_loss: 0.9709 - val_accuracy: 0.5833\n",
      "Epoch 46/50\n",
      "7/7 [==============================] - 0s 9ms/step - loss: 0.8366 - accuracy: 0.6225 - val_loss: 0.9616 - val_accuracy: 0.6054\n",
      "Epoch 47/50\n",
      "7/7 [==============================] - 0s 8ms/step - loss: 0.8160 - accuracy: 0.6414 - val_loss: 0.9723 - val_accuracy: 0.6127\n",
      "Epoch 48/50\n",
      "7/7 [==============================] - 0s 9ms/step - loss: 0.8142 - accuracy: 0.6530 - val_loss: 0.9965 - val_accuracy: 0.5809\n",
      "Epoch 49/50\n",
      "7/7 [==============================] - 0s 10ms/step - loss: 0.8327 - accuracy: 0.6341 - val_loss: 0.9724 - val_accuracy: 0.6054\n",
      "Epoch 50/50\n",
      "7/7 [==============================] - 0s 8ms/step - loss: 0.7980 - accuracy: 0.6488 - val_loss: 0.9749 - val_accuracy: 0.6103\n"
     ]
    }
   ],
   "source": [
    "train = model.fit(X_train_sc, Y_train, epochs=50,batch_size=150, validation_data=(X_test_sc,Y_test))"
   ]
  },
  {
   "cell_type": "markdown",
   "id": "091ecd8f",
   "metadata": {},
   "source": [
    "3.3 Plotting of Training-Validation accuracy and Training-Validation loss of model"
   ]
  },
  {
   "cell_type": "code",
   "execution_count": 21,
   "id": "5ae3988b",
   "metadata": {},
   "outputs": [
    {
     "data": {
      "text/plain": [
       "Text(0.5, 1.0, 'Training and validation loss')"
      ]
     },
     "execution_count": 21,
     "metadata": {},
     "output_type": "execute_result"
    },
    {
     "data": {
      "image/png": "[encoded data removed]",
      "text/plain": [
       "<Figure size 432x288 with 1 Axes>"
      ]
     },
     "metadata": {
      "needs_background": "light"
     },
     "output_type": "display_data"
    },
    {
     "data": {
      "image/png": "[encoded data removed]",
      "text/plain": [
       "<Figure size 432x288 with 1 Axes>"
      ]
     },
     "metadata": {
      "needs_background": "light"
     },
     "output_type": "display_data"
    }
   ],
   "source": [
    "accuracy = train.history['accuracy']\n",
    "val_accuracy = train.history['val_accuracy']\n",
    "loss = train.history['loss']\n",
    "val_loss = train.history['val_loss']\n",
    "\n",
    "epochs = range(len(accuracy)) # Get number of epochs\n",
    "\n",
    "plt.plot(epochs, accuracy, label = 'training accuracy' )\n",
    "plt.plot(epochs, val_accuracy, label = 'validation accuracy')\n",
    "plt.title('Training and validation accuracy')\n",
    "plt.legend(loc = 'lower right')\n",
    "plt.figure()\n",
    "\n",
    "plt.plot(epochs, loss, label = 'training loss' )\n",
    "plt.plot(epochs, val_loss, label = 'validation loss')\n",
    "plt.legend(loc = 'upper right')\n",
    "plt.title('Training and validation loss')"
   ]
  },
  {
   "cell_type": "code",
   "execution_count": 22,
   "id": "1db2f6a7",
   "metadata": {},
   "outputs": [
    {
     "name": "stdout",
     "output_type": "stream",
     "text": [
      "Loss: 0.9749144911766052\n",
      "Accuracy: 0.6102941036224365\n"
     ]
    }
   ],
   "source": [
    "scores = model.evaluate(X_test_sc, Y_test, verbose=0)\n",
    "print(\"Loss:\", scores[0])\n",
    "print(\"Accuracy:\", scores[1])"
   ]
  },
  {
   "cell_type": "code",
   "execution_count": 23,
   "id": "1f4f611a",
   "metadata": {},
   "outputs": [
    {
     "name": "stdout",
     "output_type": "stream",
     "text": [
      "Test Classification Report               precision    recall  f1-score   support\n",
      "\n",
      "           0       0.00      0.00      0.00         5\n",
      "           1       0.00      0.00      0.00        13\n",
      "           2       0.64      0.80      0.71       172\n",
      "           3       0.60      0.52      0.56       164\n",
      "           4       0.56      0.50      0.53        50\n",
      "           5       0.00      0.00      0.00         4\n",
      "\n",
      "    accuracy                           0.61       408\n",
      "   macro avg       0.30      0.30      0.30       408\n",
      "weighted avg       0.58      0.61      0.59       408\n",
      "\n"
     ]
    }
   ],
   "source": [
    "Y_pred = model.predict(X_test_sc)\n",
    "Y_pred=np.argmax(Y_pred, axis=1)\n",
    "Y_test=np.argmax(Y_test, axis=1)\n",
    "print(\"Test Classification Report\",classification_report(Y_test,Y_pred))"
   ]
  },
  {
   "cell_type": "markdown",
   "id": "1009371c",
   "metadata": {},
   "source": [
    "3.4 New architecture with upsampled data"
   ]
  },
  {
   "cell_type": "code",
   "execution_count": 24,
   "id": "45c0c831",
   "metadata": {},
   "outputs": [],
   "source": [
    "smote=SMOTE(\"minority\")\n",
    "X_res,Y_res = smote.fit_resample(X,Y)"
   ]
  },
  {
   "cell_type": "code",
   "execution_count": 25,
   "id": "504c68a2",
   "metadata": {},
   "outputs": [
    {
     "data": {
      "text/plain": [
       "((1926, 11), (1926,))"
      ]
     },
     "execution_count": 25,
     "metadata": {},
     "output_type": "execute_result"
    }
   ],
   "source": [
    "X_res.shape,Y_res.shape"
   ]
  },
  {
   "cell_type": "code",
   "execution_count": 26,
   "id": "b6adeebc",
   "metadata": {},
   "outputs": [
    {
     "data": {
      "text/plain": [
       "Signal_Strength\n",
       "3                  29.958463\n",
       "5                  29.958463\n",
       "6                  27.777778\n",
       "7                   8.670820\n",
       "4                   2.751817\n",
       "8                   0.882658\n",
       "dtype: float64"
      ]
     },
     "execution_count": 26,
     "metadata": {},
     "output_type": "execute_result"
    }
   ],
   "source": [
    "## Checking the distribution of the resampled target class\n",
    "pd.DataFrame(Y_res).value_counts(normalize=True)*100"
   ]
  },
  {
   "cell_type": "code",
   "execution_count": 27,
   "id": "59849c03",
   "metadata": {},
   "outputs": [
    {
     "name": "stdout",
     "output_type": "stream",
     "text": [
      "(1348, 11) (578, 11)\n",
      "(1348,) (578,)\n"
     ]
    }
   ],
   "source": [
    "## Splitting the balanced data into train and test.\n",
    "X_train1, X_test1, Y_train1, Y_test1 = train_test_split(X_res,Y_res, test_size=0.30, random_state=42)\n",
    "print(X_train1.shape,X_test1.shape)\n",
    "print(Y_train1.shape,Y_test1.shape)"
   ]
  },
  {
   "cell_type": "code",
   "execution_count": 28,
   "id": "87ce2b99",
   "metadata": {},
   "outputs": [],
   "source": [
    "#normalize the dataset\n",
    "scaler = MinMaxScaler()\n",
    "X_train_sc1 = scaler.fit_transform(X_train1)\n",
    "X_test_sc1 = scaler.transform(X_test1)"
   ]
  },
  {
   "cell_type": "code",
   "execution_count": 29,
   "id": "711bfd92",
   "metadata": {},
   "outputs": [],
   "source": [
    "#formatting labels\n",
    "label_encoder = OneHotEncoder(sparse=False)\n",
    "Y_train1=label_encoder.fit_transform(Y_train1.to_frame())\n",
    "Y_test1=label_encoder.fit_transform(Y_test1.to_frame())"
   ]
  },
  {
   "cell_type": "code",
   "execution_count": 30,
   "id": "69cd404b",
   "metadata": {},
   "outputs": [],
   "source": [
    "#model building\n",
    "model1 = Sequential([Input(shape=(11,)), \n",
    "                   Dense(512,activation='relu'),\n",
    "                   Dense(256,activation='relu'), \n",
    "                   Dense(128,activation='relu'),\n",
    "                   Dense(6,activation='softmax')])"
   ]
  },
  {
   "cell_type": "code",
   "execution_count": 31,
   "id": "b7f6c688",
   "metadata": {},
   "outputs": [
    {
     "name": "stdout",
     "output_type": "stream",
     "text": [
      "Model: \"sequential_1\"\n",
      "_________________________________________________________________\n",
      "Layer (type)                 Output Shape              Param #   \n",
      "=================================================================\n",
      "dense_3 (Dense)              (None, 512)               6144      \n",
      "_________________________________________________________________\n",
      "dense_4 (Dense)              (None, 256)               131328    \n",
      "_________________________________________________________________\n",
      "dense_5 (Dense)              (None, 128)               32896     \n",
      "_________________________________________________________________\n",
      "dense_6 (Dense)              (None, 6)                 774       \n",
      "=================================================================\n",
      "Total params: 171,142\n",
      "Trainable params: 171,142\n",
      "Non-trainable params: 0\n",
      "_________________________________________________________________\n"
     ]
    }
   ],
   "source": [
    "model1.summary()"
   ]
  },
  {
   "cell_type": "code",
   "execution_count": 32,
   "id": "c638b9a1",
   "metadata": {},
   "outputs": [],
   "source": [
    "from tensorflow.keras.optimizers import Adam\n",
    "\n",
    "model1.compile(loss='categorical_crossentropy',\n",
    "              optimizer=Adam(lr=0.001), metrics = ['accuracy'])"
   ]
  },
  {
   "cell_type": "code",
   "execution_count": 33,
   "id": "04d9bd34",
   "metadata": {},
   "outputs": [
    {
     "name": "stdout",
     "output_type": "stream",
     "text": [
      "Epoch 1/50\n",
      "9/9 [==============================] - 0s 28ms/step - loss: 1.5943 - accuracy: 0.4978 - val_loss: 1.3609 - val_accuracy: 0.5554\n",
      "Epoch 2/50\n",
      "9/9 [==============================] - 0s 9ms/step - loss: 1.3291 - accuracy: 0.5408 - val_loss: 1.1850 - val_accuracy: 0.5796\n",
      "Epoch 3/50\n",
      "9/9 [==============================] - 0s 9ms/step - loss: 1.1636 - accuracy: 0.5571 - val_loss: 1.0424 - val_accuracy: 0.5900\n",
      "Epoch 4/50\n",
      "9/9 [==============================] - 0s 10ms/step - loss: 1.0371 - accuracy: 0.5809 - val_loss: 0.9477 - val_accuracy: 0.6298\n",
      "Epoch 5/50\n",
      "9/9 [==============================] - 0s 8ms/step - loss: 0.9631 - accuracy: 0.6083 - val_loss: 0.9139 - val_accuracy: 0.6419\n",
      "Epoch 6/50\n",
      "9/9 [==============================] - 0s 8ms/step - loss: 0.9360 - accuracy: 0.6142 - val_loss: 0.9089 - val_accuracy: 0.6713\n",
      "Epoch 7/50\n",
      "9/9 [==============================] - 0s 11ms/step - loss: 0.9019 - accuracy: 0.6150 - val_loss: 0.8902 - val_accuracy: 0.6696\n",
      "Epoch 8/50\n",
      "9/9 [==============================] - 0s 8ms/step - loss: 0.8809 - accuracy: 0.6365 - val_loss: 0.8459 - val_accuracy: 0.6938\n",
      "Epoch 9/50\n",
      "9/9 [==============================] - 0s 9ms/step - loss: 0.8684 - accuracy: 0.6350 - val_loss: 0.8368 - val_accuracy: 0.7007\n",
      "Epoch 10/50\n",
      "9/9 [==============================] - 0s 10ms/step - loss: 0.8325 - accuracy: 0.6580 - val_loss: 0.8011 - val_accuracy: 0.7163\n",
      "Epoch 11/50\n",
      "9/9 [==============================] - 0s 9ms/step - loss: 0.8161 - accuracy: 0.6617 - val_loss: 0.7943 - val_accuracy: 0.6972\n",
      "Epoch 12/50\n",
      "9/9 [==============================] - 0s 10ms/step - loss: 0.8104 - accuracy: 0.6588 - val_loss: 0.7783 - val_accuracy: 0.6920\n",
      "Epoch 13/50\n",
      "9/9 [==============================] - 0s 9ms/step - loss: 0.7942 - accuracy: 0.6721 - val_loss: 0.8085 - val_accuracy: 0.6834\n",
      "Epoch 14/50\n",
      "9/9 [==============================] - 0s 8ms/step - loss: 0.7927 - accuracy: 0.6580 - val_loss: 0.7802 - val_accuracy: 0.7163\n",
      "Epoch 15/50\n",
      "9/9 [==============================] - 0s 7ms/step - loss: 0.7870 - accuracy: 0.6714 - val_loss: 0.7619 - val_accuracy: 0.7042\n",
      "Epoch 16/50\n",
      "9/9 [==============================] - 0s 9ms/step - loss: 0.7670 - accuracy: 0.6929 - val_loss: 0.7424 - val_accuracy: 0.7215\n",
      "Epoch 17/50\n",
      "9/9 [==============================] - 0s 11ms/step - loss: 0.7528 - accuracy: 0.6884 - val_loss: 0.7392 - val_accuracy: 0.7249\n",
      "Epoch 18/50\n",
      "9/9 [==============================] - 0s 8ms/step - loss: 0.7484 - accuracy: 0.6921 - val_loss: 0.7401 - val_accuracy: 0.7336\n",
      "Epoch 19/50\n",
      "9/9 [==============================] - 0s 8ms/step - loss: 0.7387 - accuracy: 0.6966 - val_loss: 0.7399 - val_accuracy: 0.7163\n",
      "Epoch 20/50\n",
      "9/9 [==============================] - 0s 8ms/step - loss: 0.7326 - accuracy: 0.6966 - val_loss: 0.7270 - val_accuracy: 0.7284\n",
      "Epoch 21/50\n",
      "9/9 [==============================] - 0s 9ms/step - loss: 0.7327 - accuracy: 0.6929 - val_loss: 0.7273 - val_accuracy: 0.7180\n",
      "Epoch 22/50\n",
      "9/9 [==============================] - 0s 8ms/step - loss: 0.7287 - accuracy: 0.7077 - val_loss: 0.7163 - val_accuracy: 0.7163\n",
      "Epoch 23/50\n",
      "9/9 [==============================] - 0s 11ms/step - loss: 0.7345 - accuracy: 0.6869 - val_loss: 0.7139 - val_accuracy: 0.7197\n",
      "Epoch 24/50\n",
      "9/9 [==============================] - 0s 11ms/step - loss: 0.7188 - accuracy: 0.7107 - val_loss: 0.7179 - val_accuracy: 0.7215\n",
      "Epoch 25/50\n",
      "9/9 [==============================] - 0s 12ms/step - loss: 0.7033 - accuracy: 0.7077 - val_loss: 0.7067 - val_accuracy: 0.7249\n",
      "Epoch 26/50\n",
      "9/9 [==============================] - ETA: 0s - loss: 0.6978 - accuracy: 0.69 - 0s 14ms/step - loss: 0.7016 - accuracy: 0.7018 - val_loss: 0.6988 - val_accuracy: 0.7422\n",
      "Epoch 27/50\n",
      "9/9 [==============================] - 0s 12ms/step - loss: 0.7002 - accuracy: 0.7107 - val_loss: 0.6989 - val_accuracy: 0.7439\n",
      "Epoch 28/50\n",
      "9/9 [==============================] - 0s 11ms/step - loss: 0.6971 - accuracy: 0.7070 - val_loss: 0.6976 - val_accuracy: 0.7336\n",
      "Epoch 29/50\n",
      "9/9 [==============================] - 0s 11ms/step - loss: 0.7057 - accuracy: 0.7122 - val_loss: 0.7100 - val_accuracy: 0.7111\n",
      "Epoch 30/50\n",
      "9/9 [==============================] - 0s 13ms/step - loss: 0.6985 - accuracy: 0.7107 - val_loss: 0.6965 - val_accuracy: 0.7405\n",
      "Epoch 31/50\n",
      "9/9 [==============================] - 0s 11ms/step - loss: 0.6890 - accuracy: 0.7211 - val_loss: 0.7036 - val_accuracy: 0.7145\n",
      "Epoch 32/50\n",
      "9/9 [==============================] - 0s 8ms/step - loss: 0.6986 - accuracy: 0.7025 - val_loss: 0.7840 - val_accuracy: 0.6436\n",
      "Epoch 33/50\n",
      "9/9 [==============================] - 0s 8ms/step - loss: 0.6970 - accuracy: 0.7085 - val_loss: 0.7077 - val_accuracy: 0.7145\n",
      "Epoch 34/50\n",
      "9/9 [==============================] - 0s 10ms/step - loss: 0.6710 - accuracy: 0.7159 - val_loss: 0.6982 - val_accuracy: 0.7197\n",
      "Epoch 35/50\n",
      "9/9 [==============================] - 0s 13ms/step - loss: 0.6769 - accuracy: 0.7159 - val_loss: 0.7030 - val_accuracy: 0.7439\n",
      "Epoch 36/50\n",
      "9/9 [==============================] - 0s 12ms/step - loss: 0.6831 - accuracy: 0.7077 - val_loss: 0.6772 - val_accuracy: 0.7526\n",
      "Epoch 37/50\n",
      "9/9 [==============================] - 0s 12ms/step - loss: 0.6633 - accuracy: 0.7196 - val_loss: 0.6865 - val_accuracy: 0.7266\n",
      "Epoch 38/50\n",
      "9/9 [==============================] - 0s 9ms/step - loss: 0.6648 - accuracy: 0.7174 - val_loss: 0.6881 - val_accuracy: 0.7249\n",
      "Epoch 39/50\n",
      "9/9 [==============================] - 0s 9ms/step - loss: 0.6579 - accuracy: 0.7203 - val_loss: 0.7132 - val_accuracy: 0.7163\n",
      "Epoch 40/50\n",
      "9/9 [==============================] - 0s 11ms/step - loss: 0.6750 - accuracy: 0.7136 - val_loss: 0.6986 - val_accuracy: 0.7491\n",
      "Epoch 41/50\n",
      "9/9 [==============================] - 0s 10ms/step - loss: 0.6670 - accuracy: 0.7263 - val_loss: 0.6894 - val_accuracy: 0.7405\n",
      "Epoch 42/50\n",
      "9/9 [==============================] - 0s 10ms/step - loss: 0.6655 - accuracy: 0.7196 - val_loss: 0.6947 - val_accuracy: 0.7284\n",
      "Epoch 43/50\n",
      "9/9 [==============================] - 0s 12ms/step - loss: 0.6701 - accuracy: 0.7218 - val_loss: 0.6926 - val_accuracy: 0.7197\n",
      "Epoch 44/50\n",
      "9/9 [==============================] - 0s 11ms/step - loss: 0.6485 - accuracy: 0.7263 - val_loss: 0.7147 - val_accuracy: 0.6817\n",
      "Epoch 45/50\n",
      "9/9 [==============================] - 0s 9ms/step - loss: 0.6528 - accuracy: 0.7248 - val_loss: 0.6870 - val_accuracy: 0.7405\n",
      "Epoch 46/50\n",
      "9/9 [==============================] - 0s 8ms/step - loss: 0.6414 - accuracy: 0.7240 - val_loss: 0.6739 - val_accuracy: 0.7353\n",
      "Epoch 47/50\n",
      "9/9 [==============================] - 0s 9ms/step - loss: 0.6662 - accuracy: 0.7055 - val_loss: 0.6845 - val_accuracy: 0.7128\n",
      "Epoch 48/50\n",
      "9/9 [==============================] - 0s 8ms/step - loss: 0.6518 - accuracy: 0.7226 - val_loss: 0.6823 - val_accuracy: 0.7301\n",
      "Epoch 49/50\n",
      "9/9 [==============================] - 0s 9ms/step - loss: 0.6406 - accuracy: 0.7248 - val_loss: 0.6768 - val_accuracy: 0.7405\n",
      "Epoch 50/50\n",
      "9/9 [==============================] - 0s 9ms/step - loss: 0.6378 - accuracy: 0.7263 - val_loss: 0.6752 - val_accuracy: 0.7422\n"
     ]
    }
   ],
   "source": [
    "#training the classifier\n",
    "train1 = model1.fit(X_train_sc1, Y_train1, epochs=50,batch_size=150, validation_data=(X_test_sc1,Y_test1))"
   ]
  },
  {
   "cell_type": "markdown",
   "id": "af8a61da",
   "metadata": {},
   "source": [
    "3.5 Plotting of Training-Validation accuracy and Training-Validation loss of model1"
   ]
  },
  {
   "cell_type": "code",
   "execution_count": 34,
   "id": "b7261698",
   "metadata": {},
   "outputs": [
    {
     "data": {
      "text/plain": [
       "Text(0.5, 1.0, 'Training and validation loss')"
      ]
     },
     "execution_count": 34,
     "metadata": {},
     "output_type": "execute_result"
    },
    {
     "data": {
      "image/png": "[encoded data removed]",
      "text/plain": [
       "<Figure size 432x288 with 1 Axes>"
      ]
     },
     "metadata": {
      "needs_background": "light"
     },
     "output_type": "display_data"
    },
    {
     "data": {
      "image/png": "[encoded data removed]",
      "text/plain": [
       "<Figure size 432x288 with 1 Axes>"
      ]
     },
     "metadata": {
      "needs_background": "light"
     },
     "output_type": "display_data"
    }
   ],
   "source": [
    "accuracy = train1.history['accuracy']\n",
    "val_accuracy = train1.history['val_accuracy']\n",
    "loss = train1.history['loss']\n",
    "val_loss = train1.history['val_loss']\n",
    "\n",
    "epochs = range(len(accuracy)) # Get number of epochs\n",
    "\n",
    "plt.plot(epochs, accuracy, label = 'training accuracy' )\n",
    "plt.plot(epochs, val_accuracy, label = 'validation accuracy')\n",
    "plt.title('Training and validation accuracy')\n",
    "plt.legend(loc = 'lower right')\n",
    "plt.figure()\n",
    "\n",
    "plt.plot(epochs, loss, label = 'training loss' )\n",
    "plt.plot(epochs, val_loss, label = 'validation loss')\n",
    "plt.legend(loc = 'upper right')\n",
    "plt.title('Training and validation loss')"
   ]
  },
  {
   "cell_type": "code",
   "execution_count": 35,
   "id": "d5387354",
   "metadata": {},
   "outputs": [
    {
     "name": "stdout",
     "output_type": "stream",
     "text": [
      "Loss: 0.6751804947853088\n",
      "Accuracy: 0.742214560508728\n"
     ]
    }
   ],
   "source": [
    "scores = model1.evaluate(X_test_sc1, Y_test1, verbose=0)\n",
    "print(\"Loss:\", scores[0])\n",
    "print(\"Accuracy:\", scores[1])"
   ]
  },
  {
   "cell_type": "code",
   "execution_count": 36,
   "id": "ff54ea25",
   "metadata": {},
   "outputs": [
    {
     "name": "stdout",
     "output_type": "stream",
     "text": [
      "Test Classification Report               precision    recall  f1-score   support\n",
      "\n",
      "           0       0.96      1.00      0.98       185\n",
      "           1       0.00      0.00      0.00        12\n",
      "           2       0.72      0.68      0.70       169\n",
      "           3       0.61      0.68      0.64       161\n",
      "           4       0.44      0.44      0.44        45\n",
      "           5       0.00      0.00      0.00         6\n",
      "\n",
      "    accuracy                           0.74       578\n",
      "   macro avg       0.45      0.47      0.46       578\n",
      "weighted avg       0.72      0.74      0.73       578\n",
      "\n"
     ]
    }
   ],
   "source": [
    "Y_pred1 = model1.predict(X_test_sc1)\n",
    "Y_pred1=np.argmax(Y_pred1, axis=1)\n",
    "Y_test1=np.argmax(Y_test1, axis=1)\n",
    "print(\"Test Classification Report\",classification_report(Y_test1,Y_pred1))"
   ]
  }
 ],
 "metadata": {
  "kernelspec": {
   "display_name": "Python 3",
   "language": "python",
   "name": "python3"
  },
  "language_info": {
   "codemirror_mode": {
    "name": "ipython",
    "version": 3
   },
   "file_extension": ".py",
   "mimetype": "text/x-python",
   "name": "python",
   "nbconvert_exporter": "python",
   "pygments_lexer": "ipython3",
   "version": "3.8.8"
  }
 },
 "nbformat": 4,
 "nbformat_minor": 5
}
